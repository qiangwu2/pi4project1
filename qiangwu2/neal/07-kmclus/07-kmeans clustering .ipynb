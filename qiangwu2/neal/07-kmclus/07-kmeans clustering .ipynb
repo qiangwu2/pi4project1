{
 "cells": [
  {
   "cell_type": "code",
   "execution_count": 1,
   "metadata": {
    "collapsed": true
   },
   "outputs": [],
   "source": [
    "import numpy as np\n",
    "import numpy.random as npr \n",
    "import matplotlib.pyplot as plt \n",
    "import matplotlib.cm as cm \n",
    "    "
   ]
  },
  {
   "cell_type": "code",
   "execution_count": 3,
   "metadata": {
    "collapsed": false
   },
   "outputs": [
    {
     "name": "stdout",
     "output_type": "stream",
     "text": [
      "[[ -3.88465348e-01   1.62413185e+00]\n",
      " [  2.62074514e-01   6.87685981e-01]\n",
      " [  8.25769317e-01   6.60024493e-01]\n",
      " [ -2.31841576e-01   1.06312276e+00]\n",
      " [ -1.27006796e-01   6.13979174e-01]\n",
      " [  1.14706130e-01   1.52294599e+00]\n",
      " [  1.69379974e-02   1.61521718e+00]\n",
      " [  2.01900511e-01   7.79549722e-01]\n",
      " [  8.62782975e-02   5.35595465e-01]\n",
      " [  1.80527504e-01   3.93351103e-01]\n",
      " [ -3.32780455e-01   7.76300609e-01]\n",
      " [  1.90796260e-01   1.14611701e+00]\n",
      " [ -4.57870161e-01   9.26716596e-01]\n",
      " [  7.85431168e-01   1.35940957e+00]\n",
      " [  4.35859717e-01   8.50486180e-01]\n",
      " [ -6.79665868e-01   1.22401416e+00]\n",
      " [ -3.45338360e-01   1.38015653e+00]\n",
      " [  1.16943460e-02   8.58126730e-01]\n",
      " [  8.59476227e-01   1.73618645e+00]\n",
      " [  1.94783634e-01   8.80686714e-01]\n",
      " [  4.80450538e-01   8.15711634e-01]\n",
      " [  6.42673238e-01   1.31432695e+00]\n",
      " [ -2.90946431e-01   8.87673337e-01]\n",
      " [  2.38087183e-01   1.20140945e+00]\n",
      " [ -5.42375772e-02   1.08427535e+00]\n",
      " [  1.76477633e-01   7.70745827e-01]\n",
      " [ -2.52777097e-01   2.30530876e-01]\n",
      " [  8.65012498e-01   1.58205456e-01]\n",
      " [  2.27179452e-01   1.22492499e+00]\n",
      " [ -3.49106821e-01   7.37170623e-01]\n",
      " [ -6.40256365e-01   8.28941888e-01]\n",
      " [ -6.45798727e-01   1.74378581e+00]\n",
      " [  6.41041150e-01   7.77937147e-01]\n",
      " [ -3.39517947e-01   2.13824986e-01]\n",
      " [ -2.72686019e-02   1.19048603e+00]\n",
      " [  4.62921175e-01   8.45324875e-01]\n",
      " [ -1.88768795e-01   5.54845983e-01]\n",
      " [ -6.09717093e-01   5.73662099e-01]\n",
      " [  4.79875400e-01   1.06751378e+00]\n",
      " [  7.71967762e-02   5.05607836e-01]\n",
      " [  6.51773390e-01   1.20822756e+00]\n",
      " [  7.62981185e-01   1.04994466e+00]\n",
      " [  7.88914280e-02   1.25524350e+00]\n",
      " [ -3.68394128e-01   8.36410406e-01]\n",
      " [ -2.54300828e-01   4.59406193e-01]\n",
      " [  1.21029828e+00   1.10625089e+00]\n",
      " [  2.89455933e-01   1.09290094e+00]\n",
      " [ -8.03900839e-01   4.33735924e-01]\n",
      " [  2.96007699e-01   1.72570123e+00]\n",
      " [ -3.28578823e-01   4.11534055e-01]\n",
      " [  6.96411424e-01  -3.29132008e-01]\n",
      " [  8.39963583e-01  -9.26679616e-01]\n",
      " [  1.21250928e+00   6.36259546e-01]\n",
      " [  1.07449083e+00  -9.67573197e-01]\n",
      " [  1.50333768e+00   7.32964879e-02]\n",
      " [  1.19313216e+00  -1.48663579e-01]\n",
      " [  7.71222374e-01   5.53651017e-01]\n",
      " [  1.18323796e+00   2.33867708e-01]\n",
      " [  7.00911610e-01   1.76178915e-01]\n",
      " [  1.21187755e+00  -9.59489103e-02]\n",
      " [  1.04667937e+00  -2.05796966e-01]\n",
      " [  3.09368454e-01  -1.10609924e-01]\n",
      " [  1.07484178e+00   5.44231091e-04]\n",
      " [  7.66495117e-01  -5.16548474e-01]\n",
      " [  9.66506804e-01  -1.77092279e-01]\n",
      " [  8.37714479e-01   1.40779735e-01]\n",
      " [  2.20525926e-01   8.84389174e-03]\n",
      " [  4.24110228e-01  -6.48823694e-01]\n",
      " [  1.45744253e+00  -2.54226036e-01]\n",
      " [  1.60753302e+00  -3.65541173e-01]\n",
      " [  8.25234104e-01   2.69120230e-03]\n",
      " [  9.46173909e-01   7.67583780e-01]\n",
      " [  1.07587005e+00  -1.25897937e-01]\n",
      " [  1.36378846e+00  -1.88122936e-02]\n",
      " [  1.53487544e+00   8.95619492e-01]\n",
      " [  9.15552116e-01  -5.14755592e-01]\n",
      " [  9.15514603e-01   3.67069593e-02]\n",
      " [  1.20655526e+00  -1.15381222e-01]\n",
      " [  4.38523839e-01  -6.54021653e-02]\n",
      " [  5.60999588e-01  -1.58536646e-01]\n",
      " [  8.32953811e-01   3.79102136e-01]\n",
      " [  9.63530640e-01   2.75035230e-01]\n",
      " [  9.69816276e-01  -6.81084829e-02]\n",
      " [  9.71682284e-01   8.90725007e-02]\n",
      " [  1.36382062e+00   1.69798926e-01]\n",
      " [  1.26844969e+00  -1.82698250e-01]\n",
      " [  9.93852034e-01   1.35108175e-01]\n",
      " [  1.56465256e+00   3.46614778e-03]\n",
      " [  9.92377241e-01   3.49542414e-01]\n",
      " [  1.56982010e+00   1.67350255e-01]\n",
      " [  3.14411529e-01  -2.95516181e-03]\n",
      " [  1.59811058e+00  -3.47921907e-01]\n",
      " [  1.00506461e+00   5.23906251e-01]\n",
      " [  1.18818794e+00   5.32544639e-01]\n",
      " [  1.64724786e+00  -2.99703052e-01]\n",
      " [  1.50006021e+00   3.49230266e-01]\n",
      " [  4.66839515e-01  -3.31325199e-01]\n",
      " [  1.37669772e+00  -5.56823460e-02]\n",
      " [  5.57290955e-01   5.38352444e-01]\n",
      " [  6.42770302e-01   4.06150218e-01]\n",
      " [ -9.03355756e-01  -1.40221013e+00]\n",
      " [ -8.32025238e-01  -3.91365882e-01]\n",
      " [ -1.05163203e+00   5.73331391e-03]\n",
      " [ -4.31187448e-01   8.85024799e-02]\n",
      " [  3.44107715e-01  -7.10005366e-01]\n",
      " [ -3.32091652e-01  -1.11451898e+00]\n",
      " [ -1.01732871e+00  -4.96894882e-01]\n",
      " [ -1.05822049e+00  -1.05185697e-01]\n",
      " [ -1.03230719e+00  -4.69479314e-01]\n",
      " [ -9.20905652e-01  -3.95567078e-01]\n",
      " [ -9.79953053e-01  -7.44055170e-01]\n",
      " [ -4.56574030e-01  -9.93308833e-01]\n",
      " [ -2.91789530e-01  -3.94187463e-01]\n",
      " [ -6.57936915e-01   1.51815336e-01]\n",
      " [ -3.58824156e-01  -5.03665313e-01]\n",
      " [ -1.09673025e+00  -4.59173672e-01]\n",
      " [ -1.20432329e+00  -2.58942685e-01]\n",
      " [ -1.08424194e+00   2.37064107e-01]\n",
      " [ -8.28455941e-01  -3.67697745e-01]\n",
      " [ -5.42778115e-01   4.94258878e-02]\n",
      " [ -5.51095124e-01  -2.03359355e-01]\n",
      " [  1.34204740e-01  -4.62186537e-01]\n",
      " [ -6.05028457e-01  -9.14365591e-01]\n",
      " [  2.45945213e-01  -7.88894205e-01]\n",
      " [  1.00730990e-01  -5.76238461e-01]\n",
      " [ -8.96177525e-01  -1.25230790e+00]\n",
      " [ -2.69413353e-01  -3.67316171e-01]\n",
      " [ -2.20551636e-01  -6.77433168e-01]\n",
      " [ -2.27888789e-01  -3.60347137e-01]\n",
      " [ -2.79868493e-01   2.32921912e-01]\n",
      " [ -2.57554915e-01  -7.03952530e-01]\n",
      " [ -6.56017477e-01  -9.20636124e-01]\n",
      " [ -7.13591591e-01  -1.21697447e-02]\n",
      " [ -1.87023287e-01   4.66683421e-01]\n",
      " [ -8.26165232e-02  -6.93842653e-01]\n",
      " [ -7.15812718e-01  -9.78189409e-01]\n",
      " [  7.98891132e-02  -2.27543933e-01]\n",
      " [ -6.08294362e-01  -1.30549668e+00]\n",
      " [ -1.44815606e+00  -5.34374584e-01]\n",
      " [ -6.64065571e-01  -6.09811899e-02]\n",
      " [ -4.26488386e-01   5.00756864e-02]\n",
      " [  2.51919101e-01  -7.62413563e-01]\n",
      " [ -9.17166959e-01  -7.67211855e-01]\n",
      " [ -4.54344964e-01  -4.70677479e-01]\n",
      " [ -2.29469270e-01  -3.94370306e-01]\n",
      " [ -3.90892100e-01  -2.14498256e-01]\n",
      " [ -4.39260090e-01  -5.57559759e-01]\n",
      " [ -8.74253541e-01  -1.34995432e+00]\n",
      " [ -6.39913704e-01  -3.52001745e-01]\n",
      " [ -3.94487792e-01   1.06336317e-01]]\n"
     ]
    }
   ],
   "source": [
    "k=3 \n",
    "n=50 \n",
    "sigma = 0.4 \n",
    "centers = [(0,1),(1,0),(-0.5,-0.5)]\n",
    "\n",
    "\n",
    "samples  = np.zeros((k*n,2))\n",
    "for index, center in enumerate(centers):\n",
    "    samples[index*n:(index+1)*n,:]=npr.randn(n,2)*sigma+center\n",
    "    \n",
    "    \n",
    "print(samples)"
   ]
  },
  {
   "cell_type": "code",
   "execution_count": 9,
   "metadata": {
    "collapsed": false
   },
   "outputs": [
    {
     "data": {
      "image/png": "[encoded data removed]",
      "text/plain": [
       "<matplotlib.figure.Figure at 0x7f4df59f9320>"
      ]
     },
     "metadata": {},
     "output_type": "display_data"
    }
   ],
   "source": [
    "fig,ax = plt.subplots()\n",
    "for index,marker in enumerate(['bo','ro','go']):\n",
    "    data = samples[index*n:(index+1)*n,:]\n",
    "    ax.plot(data[:,0],data[:,1],marker)\n",
    "#plt.plot(samples[:,0],samples[:,1],'ko')\n",
    "plt.show()"
   ]
  },
  {
   "cell_type": "code",
   "execution_count": 10,
   "metadata": {
    "collapsed": false
   },
   "outputs": [
    {
     "data": {
      "text/plain": [
       "KMeans(algorithm='auto', copy_x=True, init='k-means++', max_iter=300,\n",
       "    n_clusters=2, n_init=10, n_jobs=1, precompute_distances='auto',\n",
       "    random_state=None, tol=0.0001, verbose=0)"
      ]
     },
     "execution_count": 10,
     "metadata": {},
     "output_type": "execute_result"
    }
   ],
   "source": [
    "from sklearn .cluster import KMeans \n",
    "k=2\n",
    "est =KMeans(n_clusters=k)\n",
    "est.fit(samples)"
   ]
  },
  {
   "cell_type": "code",
   "execution_count": 11,
   "metadata": {
    "collapsed": false
   },
   "outputs": [
    {
     "data": {
      "text/plain": [
       "array([[-0.52565914, -0.38838035],\n",
       "       [ 0.60704969,  0.48695966]])"
      ]
     },
     "execution_count": 11,
     "metadata": {},
     "output_type": "execute_result"
    }
   ],
   "source": [
    "est.cluster_centers_"
   ]
  },
  {
   "cell_type": "code",
   "execution_count": 12,
   "metadata": {
    "collapsed": false
   },
   "outputs": [
    {
     "data": {
      "text/plain": [
       "array([1, 1, 1, 1, 1, 1, 1, 1, 1, 1, 1, 1, 1, 1, 1, 1, 1, 1, 1, 1, 1, 1, 1,\n",
       "       1, 1, 1, 0, 1, 1, 1, 0, 1, 1, 0, 1, 1, 1, 0, 1, 1, 1, 1, 1, 1, 1, 1,\n",
       "       1, 0, 1, 0, 1, 1, 1, 1, 1, 1, 1, 1, 1, 1, 1, 1, 1, 1, 1, 1, 1, 0, 1,\n",
       "       1, 1, 1, 1, 1, 1, 1, 1, 1, 1, 1, 1, 1, 1, 1, 1, 1, 1, 1, 1, 1, 1, 1,\n",
       "       1, 1, 1, 1, 1, 1, 1, 1, 0, 0, 0, 0, 0, 0, 0, 0, 0, 0, 0, 0, 0, 0, 0,\n",
       "       0, 0, 0, 0, 0, 0, 0, 0, 0, 0, 0, 0, 0, 0, 0, 0, 0, 0, 1, 0, 0, 0, 0,\n",
       "       0, 0, 0, 0, 0, 0, 0, 0, 0, 0, 0, 0], dtype=int32)"
      ]
     },
     "execution_count": 12,
     "metadata": {},
     "output_type": "execute_result"
    }
   ],
   "source": [
    "est.labels_"
   ]
  },
  {
   "cell_type": "code",
   "execution_count": 14,
   "metadata": {
    "collapsed": false
   },
   "outputs": [
    {
     "data": {
      "text/plain": [
       "[<matplotlib.lines.Line2D at 0x7f4dece32b38>]"
      ]
     },
     "execution_count": 14,
     "metadata": {},
     "output_type": "execute_result"
    },
    {
     "data": {
      "image/png": "[encoded data removed]",
      "text/plain": [
       "<matplotlib.figure.Figure at 0x7f4deb092358>"
      ]
     },
     "metadata": {},
     "output_type": "display_data"
    }
   ],
   "source": [
    "fig,ax =plt.subplots()\n",
    "labels=est.labels_\n",
    "data0 = samples[labels==0]\n",
    "ax.plot(data0[:,0],data0[:,1],'bo')\n",
    "data1=samples[labels==1]\n",
    "ax.plot(data1[:,0],data1[:,1],'ro')\n"
   ]
  },
  {
   "cell_type": "code",
   "execution_count": 17,
   "metadata": {
    "collapsed": false
   },
   "outputs": [
    {
     "data": {
      "text/plain": [
       "[<matplotlib.lines.Line2D at 0x7f4df59459e8>]"
      ]
     },
     "execution_count": 17,
     "metadata": {},
     "output_type": "execute_result"
    },
    {
     "data": {
      "image/png": "[encoded data removed]",
      "text/plain": [
       "<matplotlib.figure.Figure at 0x7f4df5904c88>"
      ]
     },
     "metadata": {},
     "output_type": "display_data"
    }
   ],
   "source": [
    "from sklearn .cluster import KMeans \n",
    "k=3\n",
    "est =KMeans(n_clusters=k)\n",
    "est.fit(samples)\n",
    "fig,ax =plt.subplots()\n",
    "labels=est.labels_\n",
    "data0 = samples[labels==0]\n",
    "ax.plot(data0[:,0],data0[:,1],'bo')\n",
    "data1=samples[labels==1]\n",
    "ax.plot(data1[:,0],data1[:,1],'ro')\n",
    "data2=samples[labels==2]\n",
    "ax.plot(data2[:,0],data2[:,1],'go')\n",
    "\n",
    "\n"
   ]
  },
  {
   "cell_type": "code",
   "execution_count": 21,
   "metadata": {
    "collapsed": true
   },
   "outputs": [
    {
     "data": {
      "image/png": "[encoded data removed]",
      "text/plain": [
       "<matplotlib.figure.Figure at 0x7f4de926def0>"
      ]
     },
     "metadata": {},
     "output_type": "display_data"
    }
   ],
   "source": [
    "from sklearn .cluster import KMeans \n",
    "\n",
    "\n",
    "fig,ax =plt.subplots()\n",
    "labels=est.labels_\n",
    "for k in (2,7):\n",
    "    est =KMeans(n_clusters=k)\n",
    "    est.fit(samples)\n",
    "    data = samples[labels==i]\n",
    "    ax.plot(data[:,0],data[:,1],'o')\n",
    "\n"
   ]
  },
  {
   "cell_type": "code",
   "execution_count": 25,
   "metadata": {
    "collapsed": false
   },
   "outputs": [],
   "source": [
    "from gap_statistic import optimalK\n",
    "\n",
    "k_candidates = list(range(2,8))\n",
    "\n",
    "n,gapdf=optimalK(samples,nrefs=3,maxClusters=k_candidates[-1])"
   ]
  },
  {
   "cell_type": "code",
   "execution_count": 26,
   "metadata": {
    "collapsed": false
   },
   "outputs": [
    {
     "data": {
      "text/html": [
       "<div>\n",
       "<table border=\"1\" class=\"dataframe\">\n",
       "  <thead>\n",
       "    <tr style=\"text-align: right;\">\n",
       "      <th></th>\n",
       "      <th>clusterCount</th>\n",
       "      <th>gap</th>\n",
       "    </tr>\n",
       "  </thead>\n",
       "  <tbody>\n",
       "    <tr>\n",
       "      <th>0</th>\n",
       "      <td>1.0</td>\n",
       "      <td>-1.880840</td>\n",
       "    </tr>\n",
       "    <tr>\n",
       "      <th>1</th>\n",
       "      <td>2.0</td>\n",
       "      <td>-1.837011</td>\n",
       "    </tr>\n",
       "    <tr>\n",
       "      <th>2</th>\n",
       "      <td>3.0</td>\n",
       "      <td>-1.718138</td>\n",
       "    </tr>\n",
       "    <tr>\n",
       "      <th>3</th>\n",
       "      <td>4.0</td>\n",
       "      <td>-1.904186</td>\n",
       "    </tr>\n",
       "    <tr>\n",
       "      <th>4</th>\n",
       "      <td>5.0</td>\n",
       "      <td>-1.879483</td>\n",
       "    </tr>\n",
       "    <tr>\n",
       "      <th>5</th>\n",
       "      <td>6.0</td>\n",
       "      <td>-1.943972</td>\n",
       "    </tr>\n",
       "  </tbody>\n",
       "</table>\n",
       "</div>"
      ],
      "text/plain": [
       "   clusterCount       gap\n",
       "0           1.0 -1.880840\n",
       "1           2.0 -1.837011\n",
       "2           3.0 -1.718138\n",
       "3           4.0 -1.904186\n",
       "4           5.0 -1.879483\n",
       "5           6.0 -1.943972"
      ]
     },
     "execution_count": 26,
     "metadata": {},
     "output_type": "execute_result"
    }
   ],
   "source": [
    "n\n",
    "gapdf"
   ]
  },
  {
   "cell_type": "code",
   "execution_count": null,
   "metadata": {
    "collapsed": true
   },
   "outputs": [],
   "source": []
  }
 ],
 "metadata": {
  "kernelspec": {
   "display_name": "Python 3",
   "language": "python",
   "name": "python3"
  },
  "language_info": {
   "codemirror_mode": {
    "name": "ipython",
    "version": 3
   },
   "file_extension": ".py",
   "mimetype": "text/x-python",
   "name": "python",
   "nbconvert_exporter": "python",
   "pygments_lexer": "ipython3",
   "version": "3.5.2"
  }
 },
 "nbformat": 4,
 "nbformat_minor": 2
}
