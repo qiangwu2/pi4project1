{
 "cells": [
  {
   "cell_type": "code",
   "execution_count": 1,
   "metadata": {
    "collapsed": true
   },
   "outputs": [],
   "source": [
    "import numpy as np\n",
    "import numpy.random as npr\n"
   ]
  },
  {
   "cell_type": "code",
   "execution_count": 2,
   "metadata": {
    "collapsed": true
   },
   "outputs": [],
   "source": [
    "def pi_cal(n_square):\n",
    "    xy = npr.rand(n_square,2)\n",
    "    radii = np.sqrt(xy[:,0]*xy[:,0]+xy[:,1]*xy[:,1])\n",
    "    n_circle = len(radii[radii<=1.0])\n",
    "    pi_approx = 4*n_circle/n_square\n",
    "    return pi_approx\n",
    "\n"
   ]
  },
  {
   "cell_type": "code",
   "execution_count": 3,
   "metadata": {
    "collapsed": false
   },
   "outputs": [
    {
     "ename": "SyntaxError",
     "evalue": "invalid syntax (<ipython-input-3-c47a60795849>, line 2)",
     "output_type": "error",
     "traceback": [
      "\u001b[0;36m  File \u001b[0;32m\"<ipython-input-3-c47a60795849>\"\u001b[0;36m, line \u001b[0;32m2\u001b[0m\n\u001b[0;31m    pi_approx =\u001b[0m\n\u001b[0m                ^\u001b[0m\n\u001b[0;31mSyntaxError\u001b[0m\u001b[0;31m:\u001b[0m invalid syntax\n"
     ]
    }
   ],
   "source": [
    "n=1000000\n",
    "pi_approx = "
   ]
  },
  {
   "cell_type": "code",
   "execution_count": 5,
   "metadata": {
    "collapsed": false
   },
   "outputs": [],
   "source": [
    "def unitSphere(*x):\n",
    "     x = np.array(x)\n",
    "     r = np.sqrt(np.sum(x**2))\n",
    "     return 1 if r<1 else 0\n",
    "    \n",
    "unitSphere = np.vectorize(unitSphere)"
   ]
  },
  {
   "cell_type": "code",
   "execution_count": 8,
   "metadata": {
    "collapsed": false
   },
   "outputs": [
    {
     "data": {
      "text/plain": [
       "array([4, 4, 4])"
      ]
     },
     "execution_count": 8,
     "metadata": {},
     "output_type": "execute_result"
    }
   ],
   "source": [
    "np.array([2,2,2])*2\n"
   ]
  },
  {
   "cell_type": "code",
   "execution_count": 9,
   "metadata": {
    "collapsed": true
   },
   "outputs": [],
   "source": [
    "rtol= 0.01\n"
   ]
  },
  {
   "cell_type": "code",
   "execution_count": 10,
   "metadata": {
    "collapsed": true
   },
   "outputs": [],
   "source": [
    "from numpy import pi \n",
    "import numpy as np \n",
    "from scipy.special import gamma \n",
    "def vol_an(k):\n",
    "    return pi**(0.5*k)/gamma(0.5*k+1)"
   ]
  },
  {
   "cell_type": "code",
   "execution_count": 12,
   "metadata": {
    "collapsed": false
   },
   "outputs": [
    {
     "data": {
      "text/plain": [
       "4.1888960000000006"
      ]
     },
     "execution_count": 12,
     "metadata": {},
     "output_type": "execute_result"
    }
   ],
   "source": [
    "# volumetric integration, midpoint method, generalized formula\n",
    "    # We'll calculate for one quadrant/octant/etc. and multiply by 2**k.\n",
    "def int_midpoint( f,        # function to integrate\n",
    "                      nx,       # number of points along regular grid in dims\n",
    "                      k,        # total dimensionality of ball (k-ball)\n",
    "                      xmin=0.,  # start of integration interval\n",
    "                      xmax=1.   # end of integration interval\n",
    "                    ):\n",
    "        dx = ( xmax - xmin ) / nx\n",
    "        x = np.linspace( xmin+0.5*dx,xmax-0.5*dx,nx )\n",
    "        vol = dx ** k\n",
    "\n",
    "        # Set up regular grid of points.\n",
    "        #  pts = [ x ] in k=1 since meshgrid doesn't work in 1D\n",
    "        pts = np.array( np.meshgrid( *[x]*k ) ).reshape( k,-1 )\n",
    "\n",
    "        return np.sum( f( *pts ) ) * vol * ( 2**k )\n",
    "\n",
    "int_midpoint( unitSphere,100,3 )"
   ]
  },
  {
   "cell_type": "code",
   "execution_count": 13,
   "metadata": {
    "collapsed": false
   },
   "outputs": [
    {
     "data": {
      "text/plain": [
       "4.0"
      ]
     },
     "execution_count": 13,
     "metadata": {},
     "output_type": "execute_result"
    }
   ],
   "source": [
    " # Monte Carlo integration, generalized formula\n",
    "\n",
    "def int_mc( f,        # function to integrate\n",
    "                ns,       # number of points to sample\n",
    "                k,        # total dimensionality of ball (k-ball)\n",
    "                xmin=0.,  # start of integration interval\n",
    "                xmax=1.   # end of integration interval\n",
    "              ):\n",
    "        vol = ( xmax - xmin ) / ns  # total int. vol. / num. pts\n",
    "        pts = npr.random( ( k,ns ) ) * ( xmax - xmin ) + xmin\n",
    "\n",
    "        return np.sum( f( *pts ) ) * vol * ( 2**k )\n",
    "\n",
    "int_mc( unitSphere,100,3 )"
   ]
  },
  {
   "cell_type": "code",
   "execution_count": 17,
   "metadata": {
    "collapsed": false
   },
   "outputs": [
    {
     "name": "stdout",
     "output_type": "stream",
     "text": [
      "[0, 1, 2, 3, 4, 5, 6, 7, 8, 9]\n",
      "[10, 11, 12, 13, 14, 15, 16, 17, 18, 19]\n",
      "[20, 21, 22, 23, 24, 25, 26, 27, 28, 29]\n",
      "[30, 31, 32, 33, 34, 35, 36, 37, 38, 39]\n",
      "[40, 41, 42, 43, 44, 45, 46, 47, 48, 49]\n",
      "[50, 51, 52, 53, 54, 55, 56, 57, 58, 59]\n",
      "[60, 61, 62, 63, 64, 65, 66, 67, 68, 69]\n",
      "[70, 71, 72, 73, 74, 75, 76, 77, 78, 79]\n",
      "[80, 81, 82, 83, 84, 85, 86, 87, 88, 89]\n",
      "[90, 91, 92, 93, 94, 95, 96, 97, 98, 99]\n",
      "[100, 101, 102, 103, 104, 105, 106, 107, 108, 109]\n",
      "[110, 111, 112, 113, 114, 115, 116, 117, 118, 119]\n",
      "[120, 121, 122, 123, 124, 125, 126, 127, 128, 129]\n",
      "[130, 131, 132, 133, 134, 135, 136, 137, 138, 139]\n",
      "[140, 141, 142, 143, 144, 145, 146, 147, 148, 149]\n",
      "[150, 151, 152, 153, 154, 155, 156, 157, 158, 159]\n",
      "160 samples yields:\t3.125000\n"
     ]
    }
   ],
   "source": [
    "dim = 4;    # dimensionality of Latin hypercube\n",
    "n = 160;    # number of samples\n",
    "\n",
    "nPerCell = n / ( dim ** 2 )\n",
    "nPerRow  = n / dim\n",
    "\n",
    "xy = np.zeros( ( n,2 ) )\n",
    "\n",
    "for i in range( dim ):\n",
    "    for j in range( dim ):\n",
    "        indices = list( range( int( i * nPerRow + j * nPerCell ),int( i * nPerRow + ( j+1 ) * nPerCell ) ) )\n",
    "        print( indices )\n",
    "        for index in indices:\n",
    "            xy[ index,0 ] = npr.rand() / dim + i / dim\n",
    "            xy[ index,1 ] = npr.rand() / dim + j / dim\n",
    "\n",
    "radii = np.sqrt( xy[ :,0 ]*xy[ :,0 ] + xy[ :,1 ]*xy[ :,1 ] )\n",
    "n_circle = len( radii[ radii <= 1.0 ] )\n",
    "pi_approx = 4 * n_circle / n\n",
    "print( '%i samples yields:\\t%f' % ( n,pi_approx ) )"
   ]
  },
  {
   "cell_type": "code",
   "execution_count": null,
   "metadata": {
    "collapsed": true
   },
   "outputs": [],
   "source": []
  }
 ],
 "metadata": {
  "kernelspec": {
   "display_name": "Python 3",
   "language": "python",
   "name": "python3"
  },
  "language_info": {
   "codemirror_mode": {
    "name": "ipython",
    "version": 3
   },
   "file_extension": ".py",
   "mimetype": "text/x-python",
   "name": "python",
   "nbconvert_exporter": "python",
   "pygments_lexer": "ipython3",
   "version": "3.5.2"
  }
 },
 "nbformat": 4,
 "nbformat_minor": 2
}
