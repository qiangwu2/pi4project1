{
 "cells": [
  {
   "cell_type": "code",
   "execution_count": 2,
   "metadata": {
    "collapsed": false
   },
   "outputs": [],
   "source": [
    "import pandas as pd \n",
    "import matplotlib.pyplot as plt \n",
    "data = pd.read_csv('data_ColetoCreek.csv')"
   ]
  },
  {
   "cell_type": "code",
   "execution_count": 28,
   "metadata": {
    "collapsed": false
   },
   "outputs": [
    {
     "data": {
      "text/html": [
       "<div>\n",
       "<table border=\"1\" class=\"dataframe\">\n",
       "  <thead>\n",
       "    <tr style=\"text-align: right;\">\n",
       "      <th></th>\n",
       "      <th>LATITUDE</th>\n",
       "      <th>LONGITUDE</th>\n",
       "      <th>DATE</th>\n",
       "      <th>EVAP</th>\n",
       "      <th>PRCP</th>\n",
       "      <th>TMAX</th>\n",
       "      <th>TMIN</th>\n",
       "    </tr>\n",
       "  </thead>\n",
       "  <tbody>\n",
       "    <tr>\n",
       "      <th>0</th>\n",
       "      <td>28.71583</td>\n",
       "      <td>-97.17444</td>\n",
       "      <td>20030701</td>\n",
       "      <td>41</td>\n",
       "      <td>183</td>\n",
       "      <td>339</td>\n",
       "      <td>228</td>\n",
       "    </tr>\n",
       "    <tr>\n",
       "      <th>1</th>\n",
       "      <td>28.71583</td>\n",
       "      <td>-97.17444</td>\n",
       "      <td>20030702</td>\n",
       "      <td>36</td>\n",
       "      <td>43</td>\n",
       "      <td>333</td>\n",
       "      <td>217</td>\n",
       "    </tr>\n",
       "    <tr>\n",
       "      <th>2</th>\n",
       "      <td>28.71583</td>\n",
       "      <td>-97.17444</td>\n",
       "      <td>20030703</td>\n",
       "      <td>38</td>\n",
       "      <td>3</td>\n",
       "      <td>333</td>\n",
       "      <td>239</td>\n",
       "    </tr>\n",
       "    <tr>\n",
       "      <th>3</th>\n",
       "      <td>28.71583</td>\n",
       "      <td>-97.17444</td>\n",
       "      <td>20030704</td>\n",
       "      <td>18</td>\n",
       "      <td>33</td>\n",
       "      <td>289</td>\n",
       "      <td>233</td>\n",
       "    </tr>\n",
       "    <tr>\n",
       "      <th>4</th>\n",
       "      <td>28.71583</td>\n",
       "      <td>-97.17444</td>\n",
       "      <td>20030705</td>\n",
       "      <td>23</td>\n",
       "      <td>20</td>\n",
       "      <td>306</td>\n",
       "      <td>222</td>\n",
       "    </tr>\n",
       "    <tr>\n",
       "      <th>5</th>\n",
       "      <td>28.71583</td>\n",
       "      <td>-97.17444</td>\n",
       "      <td>20030706</td>\n",
       "      <td>30</td>\n",
       "      <td>112</td>\n",
       "      <td>322</td>\n",
       "      <td>228</td>\n",
       "    </tr>\n",
       "    <tr>\n",
       "      <th>6</th>\n",
       "      <td>28.71583</td>\n",
       "      <td>-97.17444</td>\n",
       "      <td>20030707</td>\n",
       "      <td>46</td>\n",
       "      <td>23</td>\n",
       "      <td>322</td>\n",
       "      <td>233</td>\n",
       "    </tr>\n",
       "    <tr>\n",
       "      <th>7</th>\n",
       "      <td>28.71583</td>\n",
       "      <td>-97.17444</td>\n",
       "      <td>20030708</td>\n",
       "      <td>15</td>\n",
       "      <td>318</td>\n",
       "      <td>294</td>\n",
       "      <td>222</td>\n",
       "    </tr>\n",
       "    <tr>\n",
       "      <th>8</th>\n",
       "      <td>28.71583</td>\n",
       "      <td>-97.17444</td>\n",
       "      <td>20030709</td>\n",
       "      <td>20</td>\n",
       "      <td>185</td>\n",
       "      <td>294</td>\n",
       "      <td>233</td>\n",
       "    </tr>\n",
       "    <tr>\n",
       "      <th>9</th>\n",
       "      <td>28.71583</td>\n",
       "      <td>-97.17444</td>\n",
       "      <td>20030710</td>\n",
       "      <td>30</td>\n",
       "      <td>10</td>\n",
       "      <td>328</td>\n",
       "      <td>233</td>\n",
       "    </tr>\n",
       "    <tr>\n",
       "      <th>10</th>\n",
       "      <td>28.71583</td>\n",
       "      <td>-97.17444</td>\n",
       "      <td>20030711</td>\n",
       "      <td>53</td>\n",
       "      <td>0</td>\n",
       "      <td>339</td>\n",
       "      <td>233</td>\n",
       "    </tr>\n",
       "    <tr>\n",
       "      <th>11</th>\n",
       "      <td>28.71583</td>\n",
       "      <td>-97.17444</td>\n",
       "      <td>20030712</td>\n",
       "      <td>51</td>\n",
       "      <td>0</td>\n",
       "      <td>344</td>\n",
       "      <td>228</td>\n",
       "    </tr>\n",
       "    <tr>\n",
       "      <th>12</th>\n",
       "      <td>28.71583</td>\n",
       "      <td>-97.17444</td>\n",
       "      <td>20030713</td>\n",
       "      <td>30</td>\n",
       "      <td>0</td>\n",
       "      <td>333</td>\n",
       "      <td>222</td>\n",
       "    </tr>\n",
       "    <tr>\n",
       "      <th>13</th>\n",
       "      <td>28.71583</td>\n",
       "      <td>-97.17444</td>\n",
       "      <td>20030714</td>\n",
       "      <td>48</td>\n",
       "      <td>0</td>\n",
       "      <td>339</td>\n",
       "      <td>233</td>\n",
       "    </tr>\n",
       "    <tr>\n",
       "      <th>14</th>\n",
       "      <td>28.71583</td>\n",
       "      <td>-97.17444</td>\n",
       "      <td>20030715</td>\n",
       "      <td>56</td>\n",
       "      <td>0</td>\n",
       "      <td>339</td>\n",
       "      <td>250</td>\n",
       "    </tr>\n",
       "    <tr>\n",
       "      <th>15</th>\n",
       "      <td>28.71583</td>\n",
       "      <td>-97.17444</td>\n",
       "      <td>20030716</td>\n",
       "      <td>8</td>\n",
       "      <td>894</td>\n",
       "      <td>-9999</td>\n",
       "      <td>-9999</td>\n",
       "    </tr>\n",
       "    <tr>\n",
       "      <th>16</th>\n",
       "      <td>28.71583</td>\n",
       "      <td>-97.17444</td>\n",
       "      <td>20030717</td>\n",
       "      <td>20</td>\n",
       "      <td>155</td>\n",
       "      <td>-9999</td>\n",
       "      <td>-9999</td>\n",
       "    </tr>\n",
       "    <tr>\n",
       "      <th>17</th>\n",
       "      <td>28.71583</td>\n",
       "      <td>-97.17444</td>\n",
       "      <td>20030718</td>\n",
       "      <td>46</td>\n",
       "      <td>0</td>\n",
       "      <td>333</td>\n",
       "      <td>217</td>\n",
       "    </tr>\n",
       "    <tr>\n",
       "      <th>18</th>\n",
       "      <td>28.71583</td>\n",
       "      <td>-97.17444</td>\n",
       "      <td>20030719</td>\n",
       "      <td>51</td>\n",
       "      <td>0</td>\n",
       "      <td>339</td>\n",
       "      <td>239</td>\n",
       "    </tr>\n",
       "    <tr>\n",
       "      <th>19</th>\n",
       "      <td>28.71583</td>\n",
       "      <td>-97.17444</td>\n",
       "      <td>20030720</td>\n",
       "      <td>48</td>\n",
       "      <td>0</td>\n",
       "      <td>333</td>\n",
       "      <td>228</td>\n",
       "    </tr>\n",
       "    <tr>\n",
       "      <th>20</th>\n",
       "      <td>28.71583</td>\n",
       "      <td>-97.17444</td>\n",
       "      <td>20030721</td>\n",
       "      <td>53</td>\n",
       "      <td>0</td>\n",
       "      <td>-9999</td>\n",
       "      <td>-9999</td>\n",
       "    </tr>\n",
       "    <tr>\n",
       "      <th>21</th>\n",
       "      <td>28.71583</td>\n",
       "      <td>-97.17444</td>\n",
       "      <td>20030722</td>\n",
       "      <td>56</td>\n",
       "      <td>0</td>\n",
       "      <td>328</td>\n",
       "      <td>-9999</td>\n",
       "    </tr>\n",
       "    <tr>\n",
       "      <th>22</th>\n",
       "      <td>28.71583</td>\n",
       "      <td>-97.17444</td>\n",
       "      <td>20030723</td>\n",
       "      <td>48</td>\n",
       "      <td>0</td>\n",
       "      <td>339</td>\n",
       "      <td>233</td>\n",
       "    </tr>\n",
       "    <tr>\n",
       "      <th>23</th>\n",
       "      <td>28.71583</td>\n",
       "      <td>-97.17444</td>\n",
       "      <td>20030724</td>\n",
       "      <td>36</td>\n",
       "      <td>0</td>\n",
       "      <td>333</td>\n",
       "      <td>244</td>\n",
       "    </tr>\n",
       "    <tr>\n",
       "      <th>24</th>\n",
       "      <td>28.71583</td>\n",
       "      <td>-97.17444</td>\n",
       "      <td>20030725</td>\n",
       "      <td>48</td>\n",
       "      <td>0</td>\n",
       "      <td>344</td>\n",
       "      <td>228</td>\n",
       "    </tr>\n",
       "    <tr>\n",
       "      <th>25</th>\n",
       "      <td>28.71583</td>\n",
       "      <td>-97.17444</td>\n",
       "      <td>20030726</td>\n",
       "      <td>48</td>\n",
       "      <td>0</td>\n",
       "      <td>339</td>\n",
       "      <td>228</td>\n",
       "    </tr>\n",
       "    <tr>\n",
       "      <th>26</th>\n",
       "      <td>28.71583</td>\n",
       "      <td>-97.17444</td>\n",
       "      <td>20030727</td>\n",
       "      <td>46</td>\n",
       "      <td>0</td>\n",
       "      <td>339</td>\n",
       "      <td>239</td>\n",
       "    </tr>\n",
       "    <tr>\n",
       "      <th>27</th>\n",
       "      <td>28.71583</td>\n",
       "      <td>-97.17444</td>\n",
       "      <td>20030728</td>\n",
       "      <td>30</td>\n",
       "      <td>28</td>\n",
       "      <td>317</td>\n",
       "      <td>233</td>\n",
       "    </tr>\n",
       "    <tr>\n",
       "      <th>28</th>\n",
       "      <td>28.71583</td>\n",
       "      <td>-97.17444</td>\n",
       "      <td>20030729</td>\n",
       "      <td>25</td>\n",
       "      <td>61</td>\n",
       "      <td>328</td>\n",
       "      <td>233</td>\n",
       "    </tr>\n",
       "    <tr>\n",
       "      <th>29</th>\n",
       "      <td>28.71583</td>\n",
       "      <td>-97.17444</td>\n",
       "      <td>20030730</td>\n",
       "      <td>41</td>\n",
       "      <td>3</td>\n",
       "      <td>333</td>\n",
       "      <td>239</td>\n",
       "    </tr>\n",
       "    <tr>\n",
       "      <th>...</th>\n",
       "      <td>...</td>\n",
       "      <td>...</td>\n",
       "      <td>...</td>\n",
       "      <td>...</td>\n",
       "      <td>...</td>\n",
       "      <td>...</td>\n",
       "      <td>...</td>\n",
       "    </tr>\n",
       "    <tr>\n",
       "      <th>4167</th>\n",
       "      <td>28.71556</td>\n",
       "      <td>-97.17417</td>\n",
       "      <td>20141202</td>\n",
       "      <td>10</td>\n",
       "      <td>10</td>\n",
       "      <td>217</td>\n",
       "      <td>67</td>\n",
       "    </tr>\n",
       "    <tr>\n",
       "      <th>4168</th>\n",
       "      <td>28.71556</td>\n",
       "      <td>-97.17417</td>\n",
       "      <td>20141203</td>\n",
       "      <td>13</td>\n",
       "      <td>0</td>\n",
       "      <td>111</td>\n",
       "      <td>61</td>\n",
       "    </tr>\n",
       "    <tr>\n",
       "      <th>4169</th>\n",
       "      <td>28.71556</td>\n",
       "      <td>-97.17417</td>\n",
       "      <td>20141204</td>\n",
       "      <td>13</td>\n",
       "      <td>0</td>\n",
       "      <td>211</td>\n",
       "      <td>111</td>\n",
       "    </tr>\n",
       "    <tr>\n",
       "      <th>4170</th>\n",
       "      <td>28.71556</td>\n",
       "      <td>-97.17417</td>\n",
       "      <td>20141205</td>\n",
       "      <td>13</td>\n",
       "      <td>20</td>\n",
       "      <td>228</td>\n",
       "      <td>156</td>\n",
       "    </tr>\n",
       "    <tr>\n",
       "      <th>4171</th>\n",
       "      <td>28.71556</td>\n",
       "      <td>-97.17417</td>\n",
       "      <td>20141206</td>\n",
       "      <td>18</td>\n",
       "      <td>3</td>\n",
       "      <td>261</td>\n",
       "      <td>172</td>\n",
       "    </tr>\n",
       "    <tr>\n",
       "      <th>4172</th>\n",
       "      <td>28.71556</td>\n",
       "      <td>-97.17417</td>\n",
       "      <td>20141207</td>\n",
       "      <td>20</td>\n",
       "      <td>0</td>\n",
       "      <td>206</td>\n",
       "      <td>122</td>\n",
       "    </tr>\n",
       "    <tr>\n",
       "      <th>4173</th>\n",
       "      <td>28.71556</td>\n",
       "      <td>-97.17417</td>\n",
       "      <td>20141208</td>\n",
       "      <td>5</td>\n",
       "      <td>0</td>\n",
       "      <td>150</td>\n",
       "      <td>117</td>\n",
       "    </tr>\n",
       "    <tr>\n",
       "      <th>4174</th>\n",
       "      <td>28.71556</td>\n",
       "      <td>-97.17417</td>\n",
       "      <td>20141209</td>\n",
       "      <td>25</td>\n",
       "      <td>0</td>\n",
       "      <td>189</td>\n",
       "      <td>78</td>\n",
       "    </tr>\n",
       "    <tr>\n",
       "      <th>4175</th>\n",
       "      <td>28.71556</td>\n",
       "      <td>-97.17417</td>\n",
       "      <td>20141210</td>\n",
       "      <td>25</td>\n",
       "      <td>0</td>\n",
       "      <td>211</td>\n",
       "      <td>72</td>\n",
       "    </tr>\n",
       "    <tr>\n",
       "      <th>4176</th>\n",
       "      <td>28.71556</td>\n",
       "      <td>-97.17417</td>\n",
       "      <td>20141211</td>\n",
       "      <td>18</td>\n",
       "      <td>0</td>\n",
       "      <td>206</td>\n",
       "      <td>100</td>\n",
       "    </tr>\n",
       "    <tr>\n",
       "      <th>4177</th>\n",
       "      <td>28.71556</td>\n",
       "      <td>-97.17417</td>\n",
       "      <td>20141212</td>\n",
       "      <td>13</td>\n",
       "      <td>0</td>\n",
       "      <td>217</td>\n",
       "      <td>144</td>\n",
       "    </tr>\n",
       "    <tr>\n",
       "      <th>4178</th>\n",
       "      <td>28.71556</td>\n",
       "      <td>-97.17417</td>\n",
       "      <td>20141213</td>\n",
       "      <td>13</td>\n",
       "      <td>0</td>\n",
       "      <td>233</td>\n",
       "      <td>117</td>\n",
       "    </tr>\n",
       "    <tr>\n",
       "      <th>4179</th>\n",
       "      <td>28.71556</td>\n",
       "      <td>-97.17417</td>\n",
       "      <td>20141214</td>\n",
       "      <td>23</td>\n",
       "      <td>0</td>\n",
       "      <td>239</td>\n",
       "      <td>117</td>\n",
       "    </tr>\n",
       "    <tr>\n",
       "      <th>4180</th>\n",
       "      <td>28.71556</td>\n",
       "      <td>-97.17417</td>\n",
       "      <td>20141215</td>\n",
       "      <td>20</td>\n",
       "      <td>0</td>\n",
       "      <td>244</td>\n",
       "      <td>167</td>\n",
       "    </tr>\n",
       "    <tr>\n",
       "      <th>4181</th>\n",
       "      <td>28.71556</td>\n",
       "      <td>-97.17417</td>\n",
       "      <td>20141216</td>\n",
       "      <td>15</td>\n",
       "      <td>0</td>\n",
       "      <td>244</td>\n",
       "      <td>122</td>\n",
       "    </tr>\n",
       "    <tr>\n",
       "      <th>4182</th>\n",
       "      <td>28.71556</td>\n",
       "      <td>-97.17417</td>\n",
       "      <td>20141217</td>\n",
       "      <td>15</td>\n",
       "      <td>0</td>\n",
       "      <td>178</td>\n",
       "      <td>106</td>\n",
       "    </tr>\n",
       "    <tr>\n",
       "      <th>4183</th>\n",
       "      <td>28.71556</td>\n",
       "      <td>-97.17417</td>\n",
       "      <td>20141218</td>\n",
       "      <td>10</td>\n",
       "      <td>3</td>\n",
       "      <td>200</td>\n",
       "      <td>117</td>\n",
       "    </tr>\n",
       "    <tr>\n",
       "      <th>4184</th>\n",
       "      <td>28.71556</td>\n",
       "      <td>-97.17417</td>\n",
       "      <td>20141219</td>\n",
       "      <td>8</td>\n",
       "      <td>18</td>\n",
       "      <td>189</td>\n",
       "      <td>133</td>\n",
       "    </tr>\n",
       "    <tr>\n",
       "      <th>4185</th>\n",
       "      <td>28.71556</td>\n",
       "      <td>-97.17417</td>\n",
       "      <td>20141220</td>\n",
       "      <td>8</td>\n",
       "      <td>173</td>\n",
       "      <td>156</td>\n",
       "      <td>94</td>\n",
       "    </tr>\n",
       "    <tr>\n",
       "      <th>4186</th>\n",
       "      <td>28.71556</td>\n",
       "      <td>-97.17417</td>\n",
       "      <td>20141221</td>\n",
       "      <td>10</td>\n",
       "      <td>0</td>\n",
       "      <td>156</td>\n",
       "      <td>94</td>\n",
       "    </tr>\n",
       "    <tr>\n",
       "      <th>4187</th>\n",
       "      <td>28.71556</td>\n",
       "      <td>-97.17417</td>\n",
       "      <td>20141222</td>\n",
       "      <td>10</td>\n",
       "      <td>0</td>\n",
       "      <td>156</td>\n",
       "      <td>89</td>\n",
       "    </tr>\n",
       "    <tr>\n",
       "      <th>4188</th>\n",
       "      <td>28.71556</td>\n",
       "      <td>-97.17417</td>\n",
       "      <td>20141223</td>\n",
       "      <td>23</td>\n",
       "      <td>0</td>\n",
       "      <td>228</td>\n",
       "      <td>128</td>\n",
       "    </tr>\n",
       "    <tr>\n",
       "      <th>4189</th>\n",
       "      <td>28.71556</td>\n",
       "      <td>-97.17417</td>\n",
       "      <td>20141224</td>\n",
       "      <td>20</td>\n",
       "      <td>0</td>\n",
       "      <td>156</td>\n",
       "      <td>61</td>\n",
       "    </tr>\n",
       "    <tr>\n",
       "      <th>4190</th>\n",
       "      <td>28.71556</td>\n",
       "      <td>-97.17417</td>\n",
       "      <td>20141225</td>\n",
       "      <td>30</td>\n",
       "      <td>0</td>\n",
       "      <td>144</td>\n",
       "      <td>0</td>\n",
       "    </tr>\n",
       "    <tr>\n",
       "      <th>4191</th>\n",
       "      <td>28.71556</td>\n",
       "      <td>-97.17417</td>\n",
       "      <td>20141226</td>\n",
       "      <td>25</td>\n",
       "      <td>0</td>\n",
       "      <td>183</td>\n",
       "      <td>33</td>\n",
       "    </tr>\n",
       "    <tr>\n",
       "      <th>4192</th>\n",
       "      <td>28.71556</td>\n",
       "      <td>-97.17417</td>\n",
       "      <td>20141227</td>\n",
       "      <td>15</td>\n",
       "      <td>5</td>\n",
       "      <td>228</td>\n",
       "      <td>33</td>\n",
       "    </tr>\n",
       "    <tr>\n",
       "      <th>4193</th>\n",
       "      <td>28.71556</td>\n",
       "      <td>-97.17417</td>\n",
       "      <td>20141228</td>\n",
       "      <td>15</td>\n",
       "      <td>86</td>\n",
       "      <td>228</td>\n",
       "      <td>33</td>\n",
       "    </tr>\n",
       "    <tr>\n",
       "      <th>4194</th>\n",
       "      <td>28.71556</td>\n",
       "      <td>-97.17417</td>\n",
       "      <td>20141229</td>\n",
       "      <td>5</td>\n",
       "      <td>132</td>\n",
       "      <td>56</td>\n",
       "      <td>6</td>\n",
       "    </tr>\n",
       "    <tr>\n",
       "      <th>4195</th>\n",
       "      <td>28.71556</td>\n",
       "      <td>-97.17417</td>\n",
       "      <td>20141230</td>\n",
       "      <td>20</td>\n",
       "      <td>3</td>\n",
       "      <td>150</td>\n",
       "      <td>0</td>\n",
       "    </tr>\n",
       "    <tr>\n",
       "      <th>4196</th>\n",
       "      <td>28.71556</td>\n",
       "      <td>-97.17417</td>\n",
       "      <td>20141231</td>\n",
       "      <td>10</td>\n",
       "      <td>0</td>\n",
       "      <td>128</td>\n",
       "      <td>50</td>\n",
       "    </tr>\n",
       "  </tbody>\n",
       "</table>\n",
       "<p>4197 rows × 7 columns</p>\n",
       "</div>"
      ],
      "text/plain": [
       "      LATITUDE  LONGITUDE      DATE  EVAP  PRCP  TMAX  TMIN\n",
       "0     28.71583  -97.17444  20030701    41   183   339   228\n",
       "1     28.71583  -97.17444  20030702    36    43   333   217\n",
       "2     28.71583  -97.17444  20030703    38     3   333   239\n",
       "3     28.71583  -97.17444  20030704    18    33   289   233\n",
       "4     28.71583  -97.17444  20030705    23    20   306   222\n",
       "5     28.71583  -97.17444  20030706    30   112   322   228\n",
       "6     28.71583  -97.17444  20030707    46    23   322   233\n",
       "7     28.71583  -97.17444  20030708    15   318   294   222\n",
       "8     28.71583  -97.17444  20030709    20   185   294   233\n",
       "9     28.71583  -97.17444  20030710    30    10   328   233\n",
       "10    28.71583  -97.17444  20030711    53     0   339   233\n",
       "11    28.71583  -97.17444  20030712    51     0   344   228\n",
       "12    28.71583  -97.17444  20030713    30     0   333   222\n",
       "13    28.71583  -97.17444  20030714    48     0   339   233\n",
       "14    28.71583  -97.17444  20030715    56     0   339   250\n",
       "15    28.71583  -97.17444  20030716     8   894 -9999 -9999\n",
       "16    28.71583  -97.17444  20030717    20   155 -9999 -9999\n",
       "17    28.71583  -97.17444  20030718    46     0   333   217\n",
       "18    28.71583  -97.17444  20030719    51     0   339   239\n",
       "19    28.71583  -97.17444  20030720    48     0   333   228\n",
       "20    28.71583  -97.17444  20030721    53     0 -9999 -9999\n",
       "21    28.71583  -97.17444  20030722    56     0   328 -9999\n",
       "22    28.71583  -97.17444  20030723    48     0   339   233\n",
       "23    28.71583  -97.17444  20030724    36     0   333   244\n",
       "24    28.71583  -97.17444  20030725    48     0   344   228\n",
       "25    28.71583  -97.17444  20030726    48     0   339   228\n",
       "26    28.71583  -97.17444  20030727    46     0   339   239\n",
       "27    28.71583  -97.17444  20030728    30    28   317   233\n",
       "28    28.71583  -97.17444  20030729    25    61   328   233\n",
       "29    28.71583  -97.17444  20030730    41     3   333   239\n",
       "...        ...        ...       ...   ...   ...   ...   ...\n",
       "4167  28.71556  -97.17417  20141202    10    10   217    67\n",
       "4168  28.71556  -97.17417  20141203    13     0   111    61\n",
       "4169  28.71556  -97.17417  20141204    13     0   211   111\n",
       "4170  28.71556  -97.17417  20141205    13    20   228   156\n",
       "4171  28.71556  -97.17417  20141206    18     3   261   172\n",
       "4172  28.71556  -97.17417  20141207    20     0   206   122\n",
       "4173  28.71556  -97.17417  20141208     5     0   150   117\n",
       "4174  28.71556  -97.17417  20141209    25     0   189    78\n",
       "4175  28.71556  -97.17417  20141210    25     0   211    72\n",
       "4176  28.71556  -97.17417  20141211    18     0   206   100\n",
       "4177  28.71556  -97.17417  20141212    13     0   217   144\n",
       "4178  28.71556  -97.17417  20141213    13     0   233   117\n",
       "4179  28.71556  -97.17417  20141214    23     0   239   117\n",
       "4180  28.71556  -97.17417  20141215    20     0   244   167\n",
       "4181  28.71556  -97.17417  20141216    15     0   244   122\n",
       "4182  28.71556  -97.17417  20141217    15     0   178   106\n",
       "4183  28.71556  -97.17417  20141218    10     3   200   117\n",
       "4184  28.71556  -97.17417  20141219     8    18   189   133\n",
       "4185  28.71556  -97.17417  20141220     8   173   156    94\n",
       "4186  28.71556  -97.17417  20141221    10     0   156    94\n",
       "4187  28.71556  -97.17417  20141222    10     0   156    89\n",
       "4188  28.71556  -97.17417  20141223    23     0   228   128\n",
       "4189  28.71556  -97.17417  20141224    20     0   156    61\n",
       "4190  28.71556  -97.17417  20141225    30     0   144     0\n",
       "4191  28.71556  -97.17417  20141226    25     0   183    33\n",
       "4192  28.71556  -97.17417  20141227    15     5   228    33\n",
       "4193  28.71556  -97.17417  20141228    15    86   228    33\n",
       "4194  28.71556  -97.17417  20141229     5   132    56     6\n",
       "4195  28.71556  -97.17417  20141230    20     3   150     0\n",
       "4196  28.71556  -97.17417  20141231    10     0   128    50\n",
       "\n",
       "[4197 rows x 7 columns]"
      ]
     },
     "execution_count": 28,
     "metadata": {},
     "output_type": "execute_result"
    }
   ],
   "source": [
    "data"
   ]
  },
  {
   "cell_type": "code",
   "execution_count": 29,
   "metadata": {
    "collapsed": false
   },
   "outputs": [
    {
     "data": {
      "text/plain": [
       "0        339\n",
       "1        333\n",
       "2        333\n",
       "3        289\n",
       "4        306\n",
       "5        322\n",
       "6        322\n",
       "7        294\n",
       "8        294\n",
       "9        328\n",
       "10       339\n",
       "11       344\n",
       "12       333\n",
       "13       339\n",
       "14       339\n",
       "15     -9999\n",
       "16     -9999\n",
       "17       333\n",
       "18       339\n",
       "19       333\n",
       "20     -9999\n",
       "21       328\n",
       "22       339\n",
       "23       333\n",
       "24       344\n",
       "25       339\n",
       "26       339\n",
       "27       317\n",
       "28       328\n",
       "29       333\n",
       "        ... \n",
       "4167     217\n",
       "4168     111\n",
       "4169     211\n",
       "4170     228\n",
       "4171     261\n",
       "4172     206\n",
       "4173     150\n",
       "4174     189\n",
       "4175     211\n",
       "4176     206\n",
       "4177     217\n",
       "4178     233\n",
       "4179     239\n",
       "4180     244\n",
       "4181     244\n",
       "4182     178\n",
       "4183     200\n",
       "4184     189\n",
       "4185     156\n",
       "4186     156\n",
       "4187     156\n",
       "4188     228\n",
       "4189     156\n",
       "4190     144\n",
       "4191     183\n",
       "4192     228\n",
       "4193     228\n",
       "4194      56\n",
       "4195     150\n",
       "4196     128\n",
       "Name: TMAX, dtype: int64"
      ]
     },
     "execution_count": 29,
     "metadata": {},
     "output_type": "execute_result"
    }
   ],
   "source": [
    "data['TMAX'].min()\n",
    "data['TMAX'].mean()\n",
    "data['TMAX'].dropna()\n",
    "\n",
    "\n",
    "\n",
    "\n"
   ]
  },
  {
   "cell_type": "code",
   "execution_count": 4,
   "metadata": {
    "collapsed": false
   },
   "outputs": [
    {
     "data": {
      "text/plain": [
       "0        339\n",
       "1        333\n",
       "2        333\n",
       "3        289\n",
       "4        306\n",
       "5        322\n",
       "6        322\n",
       "7        294\n",
       "8        294\n",
       "9        328\n",
       "10       339\n",
       "11       344\n",
       "12       333\n",
       "13       339\n",
       "14       339\n",
       "15     -9999\n",
       "16     -9999\n",
       "17       333\n",
       "18       339\n",
       "19       333\n",
       "20     -9999\n",
       "21       328\n",
       "22       339\n",
       "23       333\n",
       "24       344\n",
       "25       339\n",
       "26       339\n",
       "27       317\n",
       "28       328\n",
       "29       333\n",
       "        ... \n",
       "4167     217\n",
       "4168     111\n",
       "4169     211\n",
       "4170     228\n",
       "4171     261\n",
       "4172     206\n",
       "4173     150\n",
       "4174     189\n",
       "4175     211\n",
       "4176     206\n",
       "4177     217\n",
       "4178     233\n",
       "4179     239\n",
       "4180     244\n",
       "4181     244\n",
       "4182     178\n",
       "4183     200\n",
       "4184     189\n",
       "4185     156\n",
       "4186     156\n",
       "4187     156\n",
       "4188     228\n",
       "4189     156\n",
       "4190     144\n",
       "4191     183\n",
       "4192     228\n",
       "4193     228\n",
       "4194      56\n",
       "4195     150\n",
       "4196     128\n",
       "Name: TMAX, dtype: int64"
      ]
     },
     "execution_count": 4,
     "metadata": {},
     "output_type": "execute_result"
    }
   ],
   "source": [
    "data['TMAX']\n"
   ]
  },
  {
   "cell_type": "code",
   "execution_count": 6,
   "metadata": {
    "collapsed": false
   },
   "outputs": [
    {
     "name": "stdout",
     "output_type": "stream",
     "text": [
      "Series([], Name: TMAX, dtype: int64)\n"
     ]
    }
   ],
   "source": [
    "print(data['TMAX'][data['TMAX']==9999])"
   ]
  },
  {
   "cell_type": "code",
   "execution_count": 8,
   "metadata": {
    "collapsed": false
   },
   "outputs": [
    {
     "data": {
      "text/plain": [
       "0       339\n",
       "1       333\n",
       "2       333\n",
       "3       289\n",
       "4       306\n",
       "5       322\n",
       "6       322\n",
       "7       294\n",
       "8       294\n",
       "9       328\n",
       "10      339\n",
       "11      344\n",
       "12      333\n",
       "13      339\n",
       "14      339\n",
       "17      333\n",
       "18      339\n",
       "19      333\n",
       "21      328\n",
       "22      339\n",
       "23      333\n",
       "24      344\n",
       "25      339\n",
       "26      339\n",
       "27      317\n",
       "28      328\n",
       "29      333\n",
       "30      283\n",
       "31      344\n",
       "32      344\n",
       "       ... \n",
       "4167    217\n",
       "4168    111\n",
       "4169    211\n",
       "4170    228\n",
       "4171    261\n",
       "4172    206\n",
       "4173    150\n",
       "4174    189\n",
       "4175    211\n",
       "4176    206\n",
       "4177    217\n",
       "4178    233\n",
       "4179    239\n",
       "4180    244\n",
       "4181    244\n",
       "4182    178\n",
       "4183    200\n",
       "4184    189\n",
       "4185    156\n",
       "4186    156\n",
       "4187    156\n",
       "4188    228\n",
       "4189    156\n",
       "4190    144\n",
       "4191    183\n",
       "4192    228\n",
       "4193    228\n",
       "4194     56\n",
       "4195    150\n",
       "4196    128\n",
       "Name: TMAX, dtype: int64"
      ]
     },
     "execution_count": 8,
     "metadata": {},
     "output_type": "execute_result"
    }
   ],
   "source": [
    "data['TMAX'].drop(data['TMAX'].index[data['TMAX']==-9999])"
   ]
  },
  {
   "cell_type": "code",
   "execution_count": 9,
   "metadata": {
    "collapsed": false
   },
   "outputs": [
    {
     "data": {
      "text/plain": [
       "Int64Index([  15,   16,   20,   57,   96,  128,  241,  272,  281,  303,  314,\n",
       "             912, 1052, 1053, 1262, 1263, 2570, 2695, 2817, 2840, 3051, 3062,\n",
       "            3069, 3150, 3466, 3485, 3489, 3523, 3651, 3771, 3920, 3921, 4027,\n",
       "            4088],\n",
       "           dtype='int64')"
      ]
     },
     "execution_count": 9,
     "metadata": {},
     "output_type": "execute_result"
    }
   ],
   "source": [
    "data['TMAX'].index[data['TMAX']==-9999]"
   ]
  },
  {
   "cell_type": "code",
   "execution_count": 14,
   "metadata": {
    "collapsed": true
   },
   "outputs": [
    {
     "data": {
      "image/png": "[encoded data removed]",
      "text/plain": [
       "<matplotlib.figure.Figure at 0x7fe78ca06a90>"
      ]
     },
     "metadata": {},
     "output_type": "display_data"
    }
   ],
   "source": [
    "\n",
    "data= data.dropna(subset=['TMAX','TMIN'])\n",
    "data['TMAX']=data['TMAX']/100\n",
    "plt.figure()\n",
    "data['TMAX'].plot.hist(bins=50)\n",
    "data['TMIN'].plot.hist(bins=50)\n",
    "plt.xlabel('Temperature')\n",
    "plt.ylabel('n')\n",
    "plt.legend()\n",
    "plt.show()"
   ]
  },
  {
   "cell_type": "code",
   "execution_count": 13,
   "metadata": {
    "collapsed": true
   },
   "outputs": [],
   "source": [
    "\n",
    "data['TMAX']= data['TMAX']/100"
   ]
  },
  {
   "cell_type": "code",
   "execution_count": 15,
   "metadata": {
    "collapsed": false
   },
   "outputs": [
    {
     "data": {
      "text/html": [
       "<div>\n",
       "<table border=\"1\" class=\"dataframe\">\n",
       "  <thead>\n",
       "    <tr style=\"text-align: right;\">\n",
       "      <th></th>\n",
       "      <th>LATITUDE</th>\n",
       "      <th>LONGITUDE</th>\n",
       "      <th>DATE</th>\n",
       "      <th>EVAP</th>\n",
       "      <th>PRCP</th>\n",
       "      <th>TMAX</th>\n",
       "      <th>TMIN</th>\n",
       "    </tr>\n",
       "  </thead>\n",
       "  <tbody>\n",
       "    <tr>\n",
       "      <th>0</th>\n",
       "      <td>28.71583</td>\n",
       "      <td>-97.17444</td>\n",
       "      <td>20030701</td>\n",
       "      <td>41</td>\n",
       "      <td>183</td>\n",
       "      <td>0.0339</td>\n",
       "      <td>228</td>\n",
       "    </tr>\n",
       "    <tr>\n",
       "      <th>1</th>\n",
       "      <td>28.71583</td>\n",
       "      <td>-97.17444</td>\n",
       "      <td>20030702</td>\n",
       "      <td>36</td>\n",
       "      <td>43</td>\n",
       "      <td>0.0333</td>\n",
       "      <td>217</td>\n",
       "    </tr>\n",
       "    <tr>\n",
       "      <th>2</th>\n",
       "      <td>28.71583</td>\n",
       "      <td>-97.17444</td>\n",
       "      <td>20030703</td>\n",
       "      <td>38</td>\n",
       "      <td>3</td>\n",
       "      <td>0.0333</td>\n",
       "      <td>239</td>\n",
       "    </tr>\n",
       "    <tr>\n",
       "      <th>3</th>\n",
       "      <td>28.71583</td>\n",
       "      <td>-97.17444</td>\n",
       "      <td>20030704</td>\n",
       "      <td>18</td>\n",
       "      <td>33</td>\n",
       "      <td>0.0289</td>\n",
       "      <td>233</td>\n",
       "    </tr>\n",
       "    <tr>\n",
       "      <th>4</th>\n",
       "      <td>28.71583</td>\n",
       "      <td>-97.17444</td>\n",
       "      <td>20030705</td>\n",
       "      <td>23</td>\n",
       "      <td>20</td>\n",
       "      <td>0.0306</td>\n",
       "      <td>222</td>\n",
       "    </tr>\n",
       "  </tbody>\n",
       "</table>\n",
       "</div>"
      ],
      "text/plain": [
       "   LATITUDE  LONGITUDE      DATE  EVAP  PRCP    TMAX  TMIN\n",
       "0  28.71583  -97.17444  20030701    41   183  0.0339   228\n",
       "1  28.71583  -97.17444  20030702    36    43  0.0333   217\n",
       "2  28.71583  -97.17444  20030703    38     3  0.0333   239\n",
       "3  28.71583  -97.17444  20030704    18    33  0.0289   233\n",
       "4  28.71583  -97.17444  20030705    23    20  0.0306   222"
      ]
     },
     "execution_count": 15,
     "metadata": {},
     "output_type": "execute_result"
    }
   ],
   "source": [
    "\n",
    "data.head()\n",
    "\n"
   ]
  },
  {
   "cell_type": "code",
   "execution_count": 18,
   "metadata": {
    "collapsed": false
   },
   "outputs": [
    {
     "data": {
      "text/plain": [
       "<matplotlib.figure.Figure at 0x7fe78c84e7f0>"
      ]
     },
     "metadata": {},
     "output_type": "display_data"
    },
    {
     "data": {
      "image/png": "[encoded data removed]",
      "text/plain": [
       "<matplotlib.figure.Figure at 0x7fe78c829198>"
      ]
     },
     "metadata": {},
     "output_type": "display_data"
    }
   ],
   "source": [
    "\n",
    "plt.figure()\n",
    "#plt.plot(data['DATE'],data['TMAX'],'b.')\n",
    "data.plot('DATE','TMAX')\n",
    "plt.show()\n",
    "\n"
   ]
  },
  {
   "cell_type": "code",
   "execution_count": 30,
   "metadata": {
    "collapsed": true
   },
   "outputs": [
    {
     "ename": "ValueError",
     "evalue": "time data 20030701 does not match format '%Y$%m%d' (match)",
     "output_type": "error",
     "traceback": [
      "\u001b[0;31m---------------------------------------------------------------------------\u001b[0m",
      "\u001b[0;31mTypeError\u001b[0m                                 Traceback (most recent call last)",
      "\u001b[0;32m/opt/conda/lib/python3.5/site-packages/pandas/tseries/tools.py\u001b[0m in \u001b[0;36m_convert_listlike\u001b[0;34m(arg, box, format, name, tz)\u001b[0m\n\u001b[1;32m    409\u001b[0m             \u001b[0;32mtry\u001b[0m\u001b[0;34m:\u001b[0m\u001b[0;34m\u001b[0m\u001b[0m\n\u001b[0;32m--> 410\u001b[0;31m                 \u001b[0mvalues\u001b[0m\u001b[0;34m,\u001b[0m \u001b[0mtz\u001b[0m \u001b[0;34m=\u001b[0m \u001b[0mtslib\u001b[0m\u001b[0;34m.\u001b[0m\u001b[0mdatetime_to_datetime64\u001b[0m\u001b[0;34m(\u001b[0m\u001b[0marg\u001b[0m\u001b[0;34m)\u001b[0m\u001b[0;34m\u001b[0m\u001b[0m\n\u001b[0m\u001b[1;32m    411\u001b[0m                 \u001b[0;32mreturn\u001b[0m \u001b[0mDatetimeIndex\u001b[0m\u001b[0;34m.\u001b[0m\u001b[0m_simple_new\u001b[0m\u001b[0;34m(\u001b[0m\u001b[0mvalues\u001b[0m\u001b[0;34m,\u001b[0m \u001b[0mname\u001b[0m\u001b[0;34m=\u001b[0m\u001b[0mname\u001b[0m\u001b[0;34m,\u001b[0m \u001b[0mtz\u001b[0m\u001b[0;34m=\u001b[0m\u001b[0mtz\u001b[0m\u001b[0;34m)\u001b[0m\u001b[0;34m\u001b[0m\u001b[0m\n",
      "\u001b[0;32mpandas/tslib.pyx\u001b[0m in \u001b[0;36mpandas.tslib.datetime_to_datetime64 (pandas/tslib.c:33358)\u001b[0;34m()\u001b[0m\n",
      "\u001b[0;31mTypeError\u001b[0m: Unrecognized value type: <class 'int'>",
      "\nDuring handling of the above exception, another exception occurred:\n",
      "\u001b[0;31mValueError\u001b[0m                                Traceback (most recent call last)",
      "\u001b[0;32m<ipython-input-30-362b0dbb0f79>\u001b[0m in \u001b[0;36m<module>\u001b[0;34m()\u001b[0m\n\u001b[0;32m----> 1\u001b[0;31m \u001b[0mdata\u001b[0m\u001b[0;34m[\u001b[0m\u001b[0;34m'DATE'\u001b[0m\u001b[0;34m]\u001b[0m\u001b[0;34m=\u001b[0m\u001b[0mpd\u001b[0m\u001b[0;34m.\u001b[0m\u001b[0mto_datetime\u001b[0m\u001b[0;34m(\u001b[0m\u001b[0mdata\u001b[0m\u001b[0;34m[\u001b[0m\u001b[0;34m'DATE'\u001b[0m\u001b[0;34m]\u001b[0m\u001b[0;34m,\u001b[0m\u001b[0mformat\u001b[0m\u001b[0;34m=\u001b[0m\u001b[0;34m'%Y$%m%d'\u001b[0m\u001b[0;34m)\u001b[0m\u001b[0;34m\u001b[0m\u001b[0m\n\u001b[0m\u001b[1;32m      2\u001b[0m \u001b[0;34m\u001b[0m\u001b[0m\n\u001b[1;32m      3\u001b[0m \u001b[0mplt\u001b[0m\u001b[0;34m.\u001b[0m\u001b[0mfigure\u001b[0m\u001b[0;34m(\u001b[0m\u001b[0;34m)\u001b[0m\u001b[0;34m\u001b[0m\u001b[0m\n\u001b[1;32m      4\u001b[0m \u001b[0;31m#plt.plot(data['DATE'],data['TMAX'],'b.')\u001b[0m\u001b[0;34m\u001b[0m\u001b[0;34m\u001b[0m\u001b[0m\n\u001b[1;32m      5\u001b[0m \u001b[0mdata\u001b[0m\u001b[0;34m.\u001b[0m\u001b[0mplot\u001b[0m\u001b[0;34m(\u001b[0m\u001b[0;34m'DATE'\u001b[0m\u001b[0;34m,\u001b[0m\u001b[0;34m'TMAX'\u001b[0m\u001b[0;34m,\u001b[0m\u001b[0mmarker\u001b[0m\u001b[0;34m=\u001b[0m\u001b[0;34m'o'\u001b[0m\u001b[0;34m)\u001b[0m\u001b[0;34m\u001b[0m\u001b[0m\n",
      "\u001b[0;32m/opt/conda/lib/python3.5/site-packages/pandas/util/decorators.py\u001b[0m in \u001b[0;36mwrapper\u001b[0;34m(*args, **kwargs)\u001b[0m\n\u001b[1;32m     89\u001b[0m                 \u001b[0;32melse\u001b[0m\u001b[0;34m:\u001b[0m\u001b[0;34m\u001b[0m\u001b[0m\n\u001b[1;32m     90\u001b[0m                     \u001b[0mkwargs\u001b[0m\u001b[0;34m[\u001b[0m\u001b[0mnew_arg_name\u001b[0m\u001b[0;34m]\u001b[0m \u001b[0;34m=\u001b[0m \u001b[0mnew_arg_value\u001b[0m\u001b[0;34m\u001b[0m\u001b[0m\n\u001b[0;32m---> 91\u001b[0;31m             \u001b[0;32mreturn\u001b[0m \u001b[0mfunc\u001b[0m\u001b[0;34m(\u001b[0m\u001b[0;34m*\u001b[0m\u001b[0margs\u001b[0m\u001b[0;34m,\u001b[0m \u001b[0;34m**\u001b[0m\u001b[0mkwargs\u001b[0m\u001b[0;34m)\u001b[0m\u001b[0;34m\u001b[0m\u001b[0m\n\u001b[0m\u001b[1;32m     92\u001b[0m         \u001b[0;32mreturn\u001b[0m \u001b[0mwrapper\u001b[0m\u001b[0;34m\u001b[0m\u001b[0m\n\u001b[1;32m     93\u001b[0m     \u001b[0;32mreturn\u001b[0m \u001b[0m_deprecate_kwarg\u001b[0m\u001b[0;34m\u001b[0m\u001b[0m\n",
      "\u001b[0;32m/opt/conda/lib/python3.5/site-packages/pandas/tseries/tools.py\u001b[0m in \u001b[0;36mto_datetime\u001b[0;34m(arg, errors, dayfirst, yearfirst, utc, box, format, exact, coerce, unit, infer_datetime_format)\u001b[0m\n\u001b[1;32m    419\u001b[0m     \u001b[0;32melif\u001b[0m \u001b[0misinstance\u001b[0m\u001b[0;34m(\u001b[0m\u001b[0marg\u001b[0m\u001b[0;34m,\u001b[0m \u001b[0mABCSeries\u001b[0m\u001b[0;34m)\u001b[0m\u001b[0;34m:\u001b[0m\u001b[0;34m\u001b[0m\u001b[0m\n\u001b[1;32m    420\u001b[0m         \u001b[0;32mfrom\u001b[0m \u001b[0mpandas\u001b[0m \u001b[0;32mimport\u001b[0m \u001b[0mSeries\u001b[0m\u001b[0;34m\u001b[0m\u001b[0m\n\u001b[0;32m--> 421\u001b[0;31m         \u001b[0mvalues\u001b[0m \u001b[0;34m=\u001b[0m \u001b[0m_convert_listlike\u001b[0m\u001b[0;34m(\u001b[0m\u001b[0marg\u001b[0m\u001b[0;34m.\u001b[0m\u001b[0m_values\u001b[0m\u001b[0;34m,\u001b[0m \u001b[0;32mFalse\u001b[0m\u001b[0;34m,\u001b[0m \u001b[0mformat\u001b[0m\u001b[0;34m)\u001b[0m\u001b[0;34m\u001b[0m\u001b[0m\n\u001b[0m\u001b[1;32m    422\u001b[0m         \u001b[0;32mreturn\u001b[0m \u001b[0mSeries\u001b[0m\u001b[0;34m(\u001b[0m\u001b[0mvalues\u001b[0m\u001b[0;34m,\u001b[0m \u001b[0mindex\u001b[0m\u001b[0;34m=\u001b[0m\u001b[0marg\u001b[0m\u001b[0;34m.\u001b[0m\u001b[0mindex\u001b[0m\u001b[0;34m,\u001b[0m \u001b[0mname\u001b[0m\u001b[0;34m=\u001b[0m\u001b[0marg\u001b[0m\u001b[0;34m.\u001b[0m\u001b[0mname\u001b[0m\u001b[0;34m)\u001b[0m\u001b[0;34m\u001b[0m\u001b[0m\n\u001b[1;32m    423\u001b[0m     \u001b[0;32melif\u001b[0m \u001b[0misinstance\u001b[0m\u001b[0;34m(\u001b[0m\u001b[0marg\u001b[0m\u001b[0;34m,\u001b[0m \u001b[0;34m(\u001b[0m\u001b[0mABCDataFrame\u001b[0m\u001b[0;34m,\u001b[0m \u001b[0mMutableMapping\u001b[0m\u001b[0;34m)\u001b[0m\u001b[0;34m)\u001b[0m\u001b[0;34m:\u001b[0m\u001b[0;34m\u001b[0m\u001b[0m\n",
      "\u001b[0;32m/opt/conda/lib/python3.5/site-packages/pandas/tseries/tools.py\u001b[0m in \u001b[0;36m_convert_listlike\u001b[0;34m(arg, box, format, name, tz)\u001b[0m\n\u001b[1;32m    411\u001b[0m                 \u001b[0;32mreturn\u001b[0m \u001b[0mDatetimeIndex\u001b[0m\u001b[0;34m.\u001b[0m\u001b[0m_simple_new\u001b[0m\u001b[0;34m(\u001b[0m\u001b[0mvalues\u001b[0m\u001b[0;34m,\u001b[0m \u001b[0mname\u001b[0m\u001b[0;34m=\u001b[0m\u001b[0mname\u001b[0m\u001b[0;34m,\u001b[0m \u001b[0mtz\u001b[0m\u001b[0;34m=\u001b[0m\u001b[0mtz\u001b[0m\u001b[0;34m)\u001b[0m\u001b[0;34m\u001b[0m\u001b[0m\n\u001b[1;32m    412\u001b[0m             \u001b[0;32mexcept\u001b[0m \u001b[0;34m(\u001b[0m\u001b[0mValueError\u001b[0m\u001b[0;34m,\u001b[0m \u001b[0mTypeError\u001b[0m\u001b[0;34m)\u001b[0m\u001b[0;34m:\u001b[0m\u001b[0;34m\u001b[0m\u001b[0m\n\u001b[0;32m--> 413\u001b[0;31m                 \u001b[0;32mraise\u001b[0m \u001b[0me\u001b[0m\u001b[0;34m\u001b[0m\u001b[0m\n\u001b[0m\u001b[1;32m    414\u001b[0m \u001b[0;34m\u001b[0m\u001b[0m\n\u001b[1;32m    415\u001b[0m     \u001b[0;32mif\u001b[0m \u001b[0marg\u001b[0m \u001b[0;32mis\u001b[0m \u001b[0;32mNone\u001b[0m\u001b[0;34m:\u001b[0m\u001b[0;34m\u001b[0m\u001b[0m\n",
      "\u001b[0;32m/opt/conda/lib/python3.5/site-packages/pandas/tseries/tools.py\u001b[0m in \u001b[0;36m_convert_listlike\u001b[0;34m(arg, box, format, name, tz)\u001b[0m\n\u001b[1;32m    378\u001b[0m                     \u001b[0;32mtry\u001b[0m\u001b[0;34m:\u001b[0m\u001b[0;34m\u001b[0m\u001b[0m\n\u001b[1;32m    379\u001b[0m                         result = tslib.array_strptime(arg, format, exact=exact,\n\u001b[0;32m--> 380\u001b[0;31m                                                       errors=errors)\n\u001b[0m\u001b[1;32m    381\u001b[0m                     \u001b[0;32mexcept\u001b[0m \u001b[0mtslib\u001b[0m\u001b[0;34m.\u001b[0m\u001b[0mOutOfBoundsDatetime\u001b[0m\u001b[0;34m:\u001b[0m\u001b[0;34m\u001b[0m\u001b[0m\n\u001b[1;32m    382\u001b[0m                         \u001b[0;32mif\u001b[0m \u001b[0merrors\u001b[0m \u001b[0;34m==\u001b[0m \u001b[0;34m'raise'\u001b[0m\u001b[0;34m:\u001b[0m\u001b[0;34m\u001b[0m\u001b[0m\n",
      "\u001b[0;32mpandas/tslib.pyx\u001b[0m in \u001b[0;36mpandas.tslib.array_strptime (pandas/tslib.c:62796)\u001b[0;34m()\u001b[0m\n",
      "\u001b[0;31mValueError\u001b[0m: time data 20030701 does not match format '%Y$%m%d' (match)"
     ]
    }
   ],
   "source": [
    "data['DATE']=pd.to_datetime(data['DATE'],format='%Y$%m%d')\n",
    "\n",
    "plt.figure()\n",
    "#plt.plot(data['DATE'],data['TMAX'],'b.')\n",
    "data.plot('DATE','TMAX',marker='o')\n",
    "plt.show()\n",
    "\n",
    "\n"
   ]
  },
  {
   "cell_type": "code",
   "execution_count": 23,
   "metadata": {
    "collapsed": false
   },
   "outputs": [
    {
     "ename": "SyntaxError",
     "evalue": "invalid syntax (<ipython-input-23-a6246bc34ee5>, line 1)",
     "output_type": "error",
     "traceback": [
      "\u001b[0;36m  File \u001b[0;32m\"<ipython-input-23-a6246bc34ee5>\"\u001b[0;36m, line \u001b[0;32m1\u001b[0m\n\u001b[0;31m    ^\u001b[0m\n\u001b[0m    ^\u001b[0m\n\u001b[0;31mSyntaxError\u001b[0m\u001b[0;31m:\u001b[0m invalid syntax\n"
     ]
    }
   ],
   "source": []
  },
  {
   "cell_type": "code",
   "execution_count": 26,
   "metadata": {
    "collapsed": false
   },
   "outputs": [
    {
     "data": {
      "image/png": "[encoded data removed]",
      "text/plain": [
       "<matplotlib.figure.Figure at 0x7fe7b9c734e0>"
      ]
     },
     "metadata": {},
     "output_type": "display_data"
    }
   ],
   "source": [
    "plt.figure()\n",
    "data.boxplot(['TMAX','TMIN'])\n",
    "plt.show()"
   ]
  },
  {
   "cell_type": "code",
   "execution_count": 42,
   "metadata": {
    "collapsed": false
   },
   "outputs": [
    {
     "data": {
      "text/plain": [
       "<matplotlib.figure.Figure at 0x7fe78bd46be0>"
      ]
     },
     "metadata": {},
     "output_type": "display_data"
    },
    {
     "data": {
      "image/png": "[encoded data removed]",
      "text/plain": [
       "<matplotlib.figure.Figure at 0x7fe78a9ad4a8>"
      ]
     },
     "metadata": {},
     "output_type": "display_data"
    }
   ],
   "source": [
    "data['DATE']=data['DATE'].astype('datetime64[ns]')\n",
    "\n",
    "import datetime \n",
    "year= 2008 \n",
    "data_year = data[data[ 'DATE' ] < datetime.datetime(year+1,1,1)]\n",
    "data_year = data_year[data_year[ 'DATE' ]>=datetime.datetime(year,1,1)]\n",
    "\n",
    "plt.figure()\n",
    "data_year.plot('DATE','TMAX')\n",
    "plt.show()\n"
   ]
  },
  {
   "cell_type": "code",
   "execution_count": 36,
   "metadata": {
    "collapsed": false
   },
   "outputs": [
    {
     "name": "stdout",
     "output_type": "stream",
     "text": [
      "0       20030701\n",
      "1       20030702\n",
      "2       20030703\n",
      "3       20030704\n",
      "4       20030705\n",
      "5       20030706\n",
      "6       20030707\n",
      "7       20030708\n",
      "8       20030709\n",
      "9       20030710\n",
      "10      20030711\n",
      "11      20030712\n",
      "12      20030713\n",
      "13      20030714\n",
      "14      20030715\n",
      "15      20030716\n",
      "16      20030717\n",
      "17      20030718\n",
      "18      20030719\n",
      "19      20030720\n",
      "20      20030721\n",
      "21      20030722\n",
      "22      20030723\n",
      "23      20030724\n",
      "24      20030725\n",
      "25      20030726\n",
      "26      20030727\n",
      "27      20030728\n",
      "28      20030729\n",
      "29      20030730\n",
      "          ...   \n",
      "4167    20141202\n",
      "4168    20141203\n",
      "4169    20141204\n",
      "4170    20141205\n",
      "4171    20141206\n",
      "4172    20141207\n",
      "4173    20141208\n",
      "4174    20141209\n",
      "4175    20141210\n",
      "4176    20141211\n",
      "4177    20141212\n",
      "4178    20141213\n",
      "4179    20141214\n",
      "4180    20141215\n",
      "4181    20141216\n",
      "4182    20141217\n",
      "4183    20141218\n",
      "4184    20141219\n",
      "4185    20141220\n",
      "4186    20141221\n",
      "4187    20141222\n",
      "4188    20141223\n",
      "4189    20141224\n",
      "4190    20141225\n",
      "4191    20141226\n",
      "4192    20141227\n",
      "4193    20141228\n",
      "4194    20141229\n",
      "4195    20141230\n",
      "4196    20141231\n",
      "Name: DATE, dtype: int64\n"
     ]
    }
   ],
   "source": [
    "print(data['DATE'])"
   ]
  },
  {
   "cell_type": "code",
   "execution_count": 37,
   "metadata": {
    "collapsed": false
   },
   "outputs": [
    {
     "ename": "SyntaxError",
     "evalue": "invalid syntax (<ipython-input-37-8c48d3b64394>, line 1)",
     "output_type": "error",
     "traceback": [
      "\u001b[0;36m  File \u001b[0;32m\"<ipython-input-37-8c48d3b64394>\"\u001b[0;36m, line \u001b[0;32m1\u001b[0m\n\u001b[0;31m    datetime.datetime(year+1,1,1)]\u001b[0m\n\u001b[0m                                 ^\u001b[0m\n\u001b[0;31mSyntaxError\u001b[0m\u001b[0;31m:\u001b[0m invalid syntax\n"
     ]
    }
   ],
   "source": [
    "datetime.datetime(year+1,1,1)]"
   ]
  },
  {
   "cell_type": "code",
   "execution_count": 38,
   "metadata": {
    "collapsed": false
   },
   "outputs": [
    {
     "data": {
      "text/plain": [
       "datetime.datetime(2009, 1, 1, 0, 0)"
      ]
     },
     "execution_count": 38,
     "metadata": {},
     "output_type": "execute_result"
    }
   ],
   "source": [
    "datetime.datetime(year+1,1,1)"
   ]
  },
  {
   "cell_type": "code",
   "execution_count": 40,
   "metadata": {
    "collapsed": false
   },
   "outputs": [
    {
     "data": {
      "text/plain": [
       "datetime.datetime"
      ]
     },
     "execution_count": 40,
     "metadata": {},
     "output_type": "execute_result"
    }
   ],
   "source": [
    "type(datetime.datetime(year+1,1,1))"
   ]
  },
  {
   "cell_type": "code",
   "execution_count": 9,
   "metadata": {
    "collapsed": false
   },
   "outputs": [
    {
     "ename": "NameError",
     "evalue": "name 'data_year' is not defined",
     "output_type": "error",
     "traceback": [
      "\u001b[0;31m---------------------------------------------------------------------------\u001b[0m",
      "\u001b[0;31mNameError\u001b[0m                                 Traceback (most recent call last)",
      "\u001b[0;32m<ipython-input-9-8497777e186c>\u001b[0m in \u001b[0;36m<module>\u001b[0;34m()\u001b[0m\n\u001b[1;32m      1\u001b[0m \u001b[0mn\u001b[0m\u001b[0;34m=\u001b[0m\u001b[0;36m11\u001b[0m\u001b[0;34m\u001b[0m\u001b[0m\n\u001b[1;32m      2\u001b[0m \u001b[0;34m\u001b[0m\u001b[0m\n\u001b[0;32m----> 3\u001b[0;31m \u001b[0mdata_year\u001b[0m\u001b[0;34m[\u001b[0m\u001b[0;34m'TMAXR'\u001b[0m\u001b[0;34m]\u001b[0m\u001b[0;34m=\u001b[0m \u001b[0mpd\u001b[0m\u001b[0;34m.\u001b[0m\u001b[0mrolling_mean\u001b[0m\u001b[0;34m(\u001b[0m\u001b[0mdata_year\u001b[0m\u001b[0;34m[\u001b[0m\u001b[0;34m'TMAX'\u001b[0m\u001b[0;34m]\u001b[0m\u001b[0;34m,\u001b[0m\u001b[0mn\u001b[0m\u001b[0;34m)\u001b[0m\u001b[0;34m\u001b[0m\u001b[0m\n\u001b[0m\u001b[1;32m      4\u001b[0m \u001b[0mstd\u001b[0m \u001b[0;34m=\u001b[0m \u001b[0mpd\u001b[0m\u001b[0;34m.\u001b[0m\u001b[0mrolling_std\u001b[0m\u001b[0;34m(\u001b[0m\u001b[0mdata_year\u001b[0m\u001b[0;34m[\u001b[0m\u001b[0;34m'TMAX'\u001b[0m\u001b[0;34m]\u001b[0m\u001b[0;34m,\u001b[0m\u001b[0mn\u001b[0m\u001b[0;34m)\u001b[0m\u001b[0;34m\u001b[0m\u001b[0m\n\u001b[1;32m      5\u001b[0m \u001b[0;34m\u001b[0m\u001b[0m\n",
      "\u001b[0;31mNameError\u001b[0m: name 'data_year' is not defined"
     ]
    }
   ],
   "source": [
    "n=11 \n",
    "\n",
    "data_year['TMAXR']= pd.rolling_mean(data_year['TMAX'],n)\n",
    "std = pd.rolling_std(data_year['TMAX'],n)\n",
    "\n",
    "fig,ax= plt.subplots()\n",
    "ax.plot(data_year['DATE'],data_year['TMAX'],color='blue',marker='.',linestyle='')\n",
    "\n",
    "plt.figure()\n",
    "plt.plot(data_year['DATE'],data_year['TMAX'],'b.')\n",
    "plt.plot(data_year['DATE'], pd.rolling_mean(data_year['TMAX'],n),'c-')"
   ]
  },
  {
   "cell_type": "code",
   "execution_count": 12,
   "metadata": {
    "collapsed": true
   },
   "outputs": [
    {
     "ename": "TypeError",
     "evalue": "unorderable types: int() < datetime.datetime()",
     "output_type": "error",
     "traceback": [
      "\u001b[0;31m---------------------------------------------------------------------------\u001b[0m",
      "\u001b[0;31mTypeError\u001b[0m                                 Traceback (most recent call last)",
      "\u001b[0;32m<ipython-input-12-0486a0f05f5d>\u001b[0m in \u001b[0;36m<module>\u001b[0;34m()\u001b[0m\n\u001b[1;32m      4\u001b[0m \u001b[0;32mimport\u001b[0m \u001b[0mdatetime\u001b[0m\u001b[0;34m\u001b[0m\u001b[0m\n\u001b[1;32m      5\u001b[0m \u001b[0myear\u001b[0m\u001b[0;34m=\u001b[0m \u001b[0;36m2008\u001b[0m\u001b[0;34m\u001b[0m\u001b[0m\n\u001b[0;32m----> 6\u001b[0;31m \u001b[0mdata_year\u001b[0m \u001b[0;34m=\u001b[0m \u001b[0mdata\u001b[0m\u001b[0;34m[\u001b[0m\u001b[0mdata\u001b[0m\u001b[0;34m[\u001b[0m \u001b[0;34m'DATE'\u001b[0m \u001b[0;34m]\u001b[0m \u001b[0;34m<\u001b[0m \u001b[0mdatetime\u001b[0m\u001b[0;34m.\u001b[0m\u001b[0mdatetime\u001b[0m\u001b[0;34m(\u001b[0m\u001b[0myear\u001b[0m\u001b[0;34m+\u001b[0m\u001b[0;36m1\u001b[0m\u001b[0;34m,\u001b[0m\u001b[0;36m1\u001b[0m\u001b[0;34m,\u001b[0m\u001b[0;36m1\u001b[0m\u001b[0;34m)\u001b[0m\u001b[0;34m]\u001b[0m\u001b[0;34m\u001b[0m\u001b[0m\n\u001b[0m\u001b[1;32m      7\u001b[0m \u001b[0mdata_year\u001b[0m \u001b[0;34m=\u001b[0m \u001b[0mdata_year\u001b[0m\u001b[0;34m[\u001b[0m\u001b[0mdata_year\u001b[0m\u001b[0;34m[\u001b[0m \u001b[0;34m'DATE'\u001b[0m \u001b[0;34m]\u001b[0m\u001b[0;34m>=\u001b[0m\u001b[0mdatetime\u001b[0m\u001b[0;34m.\u001b[0m\u001b[0mdatetime\u001b[0m\u001b[0;34m(\u001b[0m\u001b[0myear\u001b[0m\u001b[0;34m,\u001b[0m\u001b[0;36m1\u001b[0m\u001b[0;34m,\u001b[0m\u001b[0;36m1\u001b[0m\u001b[0;34m)\u001b[0m\u001b[0;34m]\u001b[0m\u001b[0;34m\u001b[0m\u001b[0m\n\u001b[1;32m      8\u001b[0m \u001b[0;34m\u001b[0m\u001b[0m\n",
      "\u001b[0;32m/opt/conda/lib/python3.5/site-packages/pandas/core/ops.py\u001b[0m in \u001b[0;36mwrapper\u001b[0;34m(self, other, axis)\u001b[0m\n\u001b[1;32m    853\u001b[0m \u001b[0;34m\u001b[0m\u001b[0m\n\u001b[1;32m    854\u001b[0m             \u001b[0;32mwith\u001b[0m \u001b[0mnp\u001b[0m\u001b[0;34m.\u001b[0m\u001b[0merrstate\u001b[0m\u001b[0;34m(\u001b[0m\u001b[0mall\u001b[0m\u001b[0;34m=\u001b[0m\u001b[0;34m'ignore'\u001b[0m\u001b[0;34m)\u001b[0m\u001b[0;34m:\u001b[0m\u001b[0;34m\u001b[0m\u001b[0m\n\u001b[0;32m--> 855\u001b[0;31m                 \u001b[0mres\u001b[0m \u001b[0;34m=\u001b[0m \u001b[0mna_op\u001b[0m\u001b[0;34m(\u001b[0m\u001b[0mvalues\u001b[0m\u001b[0;34m,\u001b[0m \u001b[0mother\u001b[0m\u001b[0;34m)\u001b[0m\u001b[0;34m\u001b[0m\u001b[0m\n\u001b[0m\u001b[1;32m    856\u001b[0m             \u001b[0;32mif\u001b[0m \u001b[0misscalar\u001b[0m\u001b[0;34m(\u001b[0m\u001b[0mres\u001b[0m\u001b[0;34m)\u001b[0m\u001b[0;34m:\u001b[0m\u001b[0;34m\u001b[0m\u001b[0m\n\u001b[1;32m    857\u001b[0m                 raise TypeError('Could not compare %s type with Series' %\n",
      "\u001b[0;32m/opt/conda/lib/python3.5/site-packages/pandas/core/ops.py\u001b[0m in \u001b[0;36mna_op\u001b[0;34m(x, y)\u001b[0m\n\u001b[1;32m    790\u001b[0m             \u001b[0;32mtry\u001b[0m\u001b[0;34m:\u001b[0m\u001b[0;34m\u001b[0m\u001b[0m\n\u001b[1;32m    791\u001b[0m                 \u001b[0;32mwith\u001b[0m \u001b[0mnp\u001b[0m\u001b[0;34m.\u001b[0m\u001b[0merrstate\u001b[0m\u001b[0;34m(\u001b[0m\u001b[0mall\u001b[0m\u001b[0;34m=\u001b[0m\u001b[0;34m'ignore'\u001b[0m\u001b[0;34m)\u001b[0m\u001b[0;34m:\u001b[0m\u001b[0;34m\u001b[0m\u001b[0m\n\u001b[0;32m--> 792\u001b[0;31m                     \u001b[0mresult\u001b[0m \u001b[0;34m=\u001b[0m \u001b[0mgetattr\u001b[0m\u001b[0;34m(\u001b[0m\u001b[0mx\u001b[0m\u001b[0;34m,\u001b[0m \u001b[0mname\u001b[0m\u001b[0;34m)\u001b[0m\u001b[0;34m(\u001b[0m\u001b[0my\u001b[0m\u001b[0;34m)\u001b[0m\u001b[0;34m\u001b[0m\u001b[0m\n\u001b[0m\u001b[1;32m    793\u001b[0m                 \u001b[0;32mif\u001b[0m \u001b[0mresult\u001b[0m \u001b[0;32mis\u001b[0m \u001b[0mNotImplemented\u001b[0m\u001b[0;34m:\u001b[0m\u001b[0;34m\u001b[0m\u001b[0m\n\u001b[1;32m    794\u001b[0m                     \u001b[0;32mraise\u001b[0m \u001b[0mTypeError\u001b[0m\u001b[0;34m(\u001b[0m\u001b[0;34m\"invalid type comparison\"\u001b[0m\u001b[0;34m)\u001b[0m\u001b[0;34m\u001b[0m\u001b[0m\n",
      "\u001b[0;31mTypeError\u001b[0m: unorderable types: int() < datetime.datetime()"
     ]
    }
   ],
   "source": [
    "import scipy.signal as sps\n",
    "n= 5\n",
    "\n",
    "import datetime \n",
    "year= 2008 \n",
    "data_year = data[data[ 'DATE' ] < datetime.datetime(year+1,1,1)]\n",
    "data_year = data_year[data_year[ 'DATE' ]>=datetime.datetime(year,1,1)]\n",
    "\n",
    "\n",
    "sps.savgol_filter([data_year['TMAX']],n,3)[0]"
   ]
  },
  {
   "cell_type": "code",
   "execution_count": 13,
   "metadata": {
    "collapsed": false
   },
   "outputs": [
    {
     "data": {
      "text/html": [
       "<div>\n",
       "<table border=\"1\" class=\"dataframe\">\n",
       "  <thead>\n",
       "    <tr style=\"text-align: right;\">\n",
       "      <th></th>\n",
       "      <th>LATITUDE</th>\n",
       "      <th>LONGITUDE</th>\n",
       "      <th>DATE</th>\n",
       "      <th>EVAP</th>\n",
       "      <th>PRCP</th>\n",
       "      <th>TMAX</th>\n",
       "      <th>TMIN</th>\n",
       "    </tr>\n",
       "  </thead>\n",
       "  <tbody>\n",
       "    <tr>\n",
       "      <th>0</th>\n",
       "      <td>28.71583</td>\n",
       "      <td>-97.17444</td>\n",
       "      <td>20030701</td>\n",
       "      <td>41</td>\n",
       "      <td>183</td>\n",
       "      <td>339</td>\n",
       "      <td>228</td>\n",
       "    </tr>\n",
       "    <tr>\n",
       "      <th>1</th>\n",
       "      <td>28.71583</td>\n",
       "      <td>-97.17444</td>\n",
       "      <td>20030702</td>\n",
       "      <td>36</td>\n",
       "      <td>43</td>\n",
       "      <td>333</td>\n",
       "      <td>217</td>\n",
       "    </tr>\n",
       "    <tr>\n",
       "      <th>2</th>\n",
       "      <td>28.71583</td>\n",
       "      <td>-97.17444</td>\n",
       "      <td>20030703</td>\n",
       "      <td>38</td>\n",
       "      <td>3</td>\n",
       "      <td>333</td>\n",
       "      <td>239</td>\n",
       "    </tr>\n",
       "    <tr>\n",
       "      <th>3</th>\n",
       "      <td>28.71583</td>\n",
       "      <td>-97.17444</td>\n",
       "      <td>20030704</td>\n",
       "      <td>18</td>\n",
       "      <td>33</td>\n",
       "      <td>289</td>\n",
       "      <td>233</td>\n",
       "    </tr>\n",
       "    <tr>\n",
       "      <th>4</th>\n",
       "      <td>28.71583</td>\n",
       "      <td>-97.17444</td>\n",
       "      <td>20030705</td>\n",
       "      <td>23</td>\n",
       "      <td>20</td>\n",
       "      <td>306</td>\n",
       "      <td>222</td>\n",
       "    </tr>\n",
       "  </tbody>\n",
       "</table>\n",
       "</div>"
      ],
      "text/plain": [
       "   LATITUDE  LONGITUDE      DATE  EVAP  PRCP  TMAX  TMIN\n",
       "0  28.71583  -97.17444  20030701    41   183   339   228\n",
       "1  28.71583  -97.17444  20030702    36    43   333   217\n",
       "2  28.71583  -97.17444  20030703    38     3   333   239\n",
       "3  28.71583  -97.17444  20030704    18    33   289   233\n",
       "4  28.71583  -97.17444  20030705    23    20   306   222"
      ]
     },
     "execution_count": 13,
     "metadata": {},
     "output_type": "execute_result"
    }
   ],
   "source": [
    "data.head()"
   ]
  },
  {
   "cell_type": "code",
   "execution_count": 14,
   "metadata": {
    "collapsed": false
   },
   "outputs": [
    {
     "data": {
      "text/html": [
       "<div>\n",
       "<table border=\"1\" class=\"dataframe\">\n",
       "  <thead>\n",
       "    <tr style=\"text-align: right;\">\n",
       "      <th></th>\n",
       "      <th>DATE</th>\n",
       "      <th>EVAP</th>\n",
       "      <th>PRCP</th>\n",
       "      <th>TMAX</th>\n",
       "      <th>TMIN</th>\n",
       "    </tr>\n",
       "  </thead>\n",
       "  <tbody>\n",
       "    <tr>\n",
       "      <th>DATE</th>\n",
       "      <td>1.000000</td>\n",
       "      <td>-0.009206</td>\n",
       "      <td>0.022053</td>\n",
       "      <td>0.004063</td>\n",
       "      <td>0.052415</td>\n",
       "    </tr>\n",
       "    <tr>\n",
       "      <th>EVAP</th>\n",
       "      <td>-0.009206</td>\n",
       "      <td>1.000000</td>\n",
       "      <td>0.084217</td>\n",
       "      <td>0.614557</td>\n",
       "      <td>0.545714</td>\n",
       "    </tr>\n",
       "    <tr>\n",
       "      <th>PRCP</th>\n",
       "      <td>0.022053</td>\n",
       "      <td>0.084217</td>\n",
       "      <td>1.000000</td>\n",
       "      <td>0.074204</td>\n",
       "      <td>0.062006</td>\n",
       "    </tr>\n",
       "    <tr>\n",
       "      <th>TMAX</th>\n",
       "      <td>0.004063</td>\n",
       "      <td>0.614557</td>\n",
       "      <td>0.074204</td>\n",
       "      <td>1.000000</td>\n",
       "      <td>0.774190</td>\n",
       "    </tr>\n",
       "    <tr>\n",
       "      <th>TMIN</th>\n",
       "      <td>0.052415</td>\n",
       "      <td>0.545714</td>\n",
       "      <td>0.062006</td>\n",
       "      <td>0.774190</td>\n",
       "      <td>1.000000</td>\n",
       "    </tr>\n",
       "  </tbody>\n",
       "</table>\n",
       "</div>"
      ],
      "text/plain": [
       "          DATE      EVAP      PRCP      TMAX      TMIN\n",
       "DATE  1.000000 -0.009206  0.022053  0.004063  0.052415\n",
       "EVAP -0.009206  1.000000  0.084217  0.614557  0.545714\n",
       "PRCP  0.022053  0.084217  1.000000  0.074204  0.062006\n",
       "TMAX  0.004063  0.614557  0.074204  1.000000  0.774190\n",
       "TMIN  0.052415  0.545714  0.062006  0.774190  1.000000"
      ]
     },
     "execution_count": 14,
     "metadata": {},
     "output_type": "execute_result"
    }
   ],
   "source": [
    "data_restrict = data.loc[:,'DATE':'TMIN']\n",
    "data_restrict.corr()"
   ]
  },
  {
   "cell_type": "code",
   "execution_count": 17,
   "metadata": {
    "collapsed": false
   },
   "outputs": [
    {
     "data": {
      "text/plain": [
       "<matplotlib.image.AxesImage at 0x7fe6c86bf320>"
      ]
     },
     "execution_count": 17,
     "metadata": {},
     "output_type": "execute_result"
    },
    {
     "data": {
      "image/png": "[encoded data removed]",
      "text/plain": [
       "<matplotlib.figure.Figure at 0x7fe6c87456a0>"
      ]
     },
     "metadata": {},
     "output_type": "display_data"
    }
   ],
   "source": [
    "plt.imshow(data_restrict.corr())"
   ]
  },
  {
   "cell_type": "code",
   "execution_count": 18,
   "metadata": {
    "collapsed": false,
    "scrolled": true
   },
   "outputs": [
    {
     "name": "stdout",
     "output_type": "stream",
     "text": [
      "Creating directory /home/jovyan/.config/biokit \n",
      "Creating directory /home/jovyan/.config/bioservices \n"
     ]
    },
    {
     "data": {
      "image/png": "[encoded data removed]",
      "text/plain": [
       "<matplotlib.figure.Figure at 0x7fe6c4e74128>"
      ]
     },
     "metadata": {},
     "output_type": "display_data"
    }
   ],
   "source": [
    "from biokit.viz import corrplot \n",
    "ax = corrplot.Corrplot(data_restrict.corr())\n",
    "ax.plot()\n",
    "plt.show()\n"
   ]
  },
  {
   "cell_type": "code",
   "execution_count": null,
   "metadata": {
    "collapsed": true
   },
   "outputs": [],
   "source": []
  }
 ],
 "metadata": {
  "kernelspec": {
   "display_name": "Python 3",
   "language": "python",
   "name": "python3"
  },
  "language_info": {
   "codemirror_mode": {
    "name": "ipython",
    "version": 3
   },
   "file_extension": ".py",
   "mimetype": "text/x-python",
   "name": "python",
   "nbconvert_exporter": "python",
   "pygments_lexer": "ipython3",
   "version": "3.5.2"
  }
 },
 "nbformat": 4,
 "nbformat_minor": 2
}
